{
 "cells": [
  {
   "cell_type": "markdown",
   "metadata": {},
   "source": [
    "<a href=\"https://colab.research.google.com/github/datarobot-community/custom-models/blob/master/drum_overview/Main_Script.ipynb\" target=\"_parent\"><img src=\"https://colab.research.google.com/assets/colab-badge.svg\" alt=\"Open In Colab\"/></a>"
   ]
  },
  {
   "cell_type": "markdown",
   "metadata": {},
   "source": [
    "## Using MLOps DRUM to test your custom models\n",
    "**Author**: Tim Whittaker\n",
    "\n",
    "#### Scope\n",
    "We'll get our hands dirty by:\n",
    "\n",
    "* Building a simple regression model using Scikit\n",
    "* Using DRUM for Batch Scoring\n",
    "* Using DRUM to get a REST API endpoint\n",
    "* Show a simple example app connected to the REST API\n",
    "* H2O, Keras, XGBoost, and DataRobot\n",
    "* Add a DataRobot remote agent if you are interested in further model monitoring\n",
    "\n"
   ]
  },
  {
   "cell_type": "code",
   "execution_count": null,
   "metadata": {},
   "outputs": [],
   "source": [
    "#Clone the repository\n",
    "!git clone https://github.com/datarobot-community/mlops-examples"
   ]
  },
  {
   "cell_type": "code",
   "execution_count": 13,
   "metadata": {},
   "outputs": [
    {
     "name": "stdout",
     "output_type": "stream",
     "text": [
      "Collecting datarobot_drum==1.5.11\n",
      "  Using cached datarobot_drum-1.5.11-py3-none-any.whl (8.8 MB)\n",
      "Collecting argcomplete==1.11.1\n",
      "  Using cached argcomplete-1.11.1-py2.py3-none-any.whl (36 kB)\n",
      "Collecting datarobot==2.24.0\n",
      "  Using cached datarobot-2.24.0-py3-none-any.whl (418 kB)\n",
      "Requirement already satisfied: scipy<2,>=1.1 in /Users/joel.gongora/opt/anaconda3/envs/drum/lib/python3.7/site-packages (from datarobot_drum==1.5.11) (1.7.1)\n",
      "Requirement already satisfied: flask in /Users/joel.gongora/opt/anaconda3/envs/drum/lib/python3.7/site-packages (from datarobot_drum==1.5.11) (2.0.1)\n",
      "Requirement already satisfied: pandas<1.3.1,>=1.0.5 in /Users/joel.gongora/opt/anaconda3/envs/drum/lib/python3.7/site-packages (from datarobot_drum==1.5.11) (1.1.5)\n",
      "Requirement already satisfied: requests in /Users/joel.gongora/opt/anaconda3/envs/drum/lib/python3.7/site-packages (from datarobot_drum==1.5.11) (2.26.0)\n",
      "Requirement already satisfied: py4j~=0.10.9.0 in /Users/joel.gongora/opt/anaconda3/envs/drum/lib/python3.7/site-packages (from datarobot_drum==1.5.11) (0.10.9.2)\n",
      "Collecting Pillow==8.2.0\n",
      "  Using cached Pillow-8.2.0-cp37-cp37m-macosx_10_10_x86_64.whl (2.8 MB)\n",
      "Requirement already satisfied: numpy in /Users/joel.gongora/opt/anaconda3/envs/drum/lib/python3.7/site-packages (from datarobot_drum==1.5.11) (1.19.5)\n",
      "Requirement already satisfied: progress in /Users/joel.gongora/opt/anaconda3/envs/drum/lib/python3.7/site-packages (from datarobot_drum==1.5.11) (1.6)\n",
      "Requirement already satisfied: docker>=4.2.2<5.0.0 in /Users/joel.gongora/opt/anaconda3/envs/drum/lib/python3.7/site-packages (from datarobot_drum==1.5.11) (5.0.2)\n",
      "Collecting julia==0.5.6\n",
      "  Using cached julia-0.5.6-py2.py3-none-any.whl (67 kB)\n",
      "Requirement already satisfied: jinja2 in /Users/joel.gongora/opt/anaconda3/envs/drum/lib/python3.7/site-packages (from datarobot_drum==1.5.11) (3.0.1)\n",
      "Requirement already satisfied: memory-profiler<1.0.0 in /Users/joel.gongora/opt/anaconda3/envs/drum/lib/python3.7/site-packages (from datarobot_drum==1.5.11) (0.58.0)\n",
      "Requirement already satisfied: mlpiper~=2.4.0 in /Users/joel.gongora/opt/anaconda3/envs/drum/lib/python3.7/site-packages (from datarobot_drum==1.5.11) (2.4.2)\n",
      "Collecting pyarrow==2.0.0\n",
      "  Using cached pyarrow-2.0.0-cp37-cp37m-macosx_10_13_x86_64.whl (13.4 MB)\n",
      "Collecting strictyaml==1.4.2\n",
      "  Using cached strictyaml-1.4.2-py3-none-any.whl\n",
      "Requirement already satisfied: texttable in /Users/joel.gongora/opt/anaconda3/envs/drum/lib/python3.7/site-packages (from datarobot_drum==1.5.11) (1.6.4)\n",
      "Requirement already satisfied: importlib-metadata<2,>=0.23 in /Users/joel.gongora/opt/anaconda3/envs/drum/lib/python3.7/site-packages (from argcomplete==1.11.1->datarobot_drum==1.5.11) (1.7.0)\n",
      "Requirement already satisfied: requests-toolbelt>=0.6 in /Users/joel.gongora/opt/anaconda3/envs/drum/lib/python3.7/site-packages (from datarobot==2.24.0->datarobot_drum==1.5.11) (0.9.1)\n",
      "Requirement already satisfied: pyyaml>=3.11 in /Users/joel.gongora/opt/anaconda3/envs/drum/lib/python3.7/site-packages (from datarobot==2.24.0->datarobot_drum==1.5.11) (5.4.1)\n",
      "Requirement already satisfied: attrs<20.0,>=19.1.0 in /Users/joel.gongora/opt/anaconda3/envs/drum/lib/python3.7/site-packages (from datarobot==2.24.0->datarobot_drum==1.5.11) (19.3.0)\n",
      "Requirement already satisfied: contextlib2>=0.5.5 in /Users/joel.gongora/opt/anaconda3/envs/drum/lib/python3.7/site-packages (from datarobot==2.24.0->datarobot_drum==1.5.11) (21.6.0)\n",
      "Requirement already satisfied: urllib3>=1.23 in /Users/joel.gongora/opt/anaconda3/envs/drum/lib/python3.7/site-packages (from datarobot==2.24.0->datarobot_drum==1.5.11) (1.26.6)\n",
      "Requirement already satisfied: trafaret!=1.1.0,<2.0,>=0.7 in /Users/joel.gongora/opt/anaconda3/envs/drum/lib/python3.7/site-packages (from datarobot==2.24.0->datarobot_drum==1.5.11) (1.2.0)\n",
      "Requirement already satisfied: python-dateutil>=2.6.0 in /Users/joel.gongora/opt/anaconda3/envs/drum/lib/python3.7/site-packages (from strictyaml==1.4.2->datarobot_drum==1.5.11) (2.8.2)\n",
      "Collecting ruamel.yaml==0.17.4\n",
      "  Using cached ruamel.yaml-0.17.4-py3-none-any.whl (101 kB)\n",
      "Requirement already satisfied: ruamel.yaml.clib>=0.1.2 in /Users/joel.gongora/opt/anaconda3/envs/drum/lib/python3.7/site-packages (from ruamel.yaml==0.17.4->strictyaml==1.4.2->datarobot_drum==1.5.11) (0.2.6)\n",
      "Requirement already satisfied: websocket-client>=0.32.0 in /Users/joel.gongora/opt/anaconda3/envs/drum/lib/python3.7/site-packages (from docker>=4.2.2<5.0.0->datarobot_drum==1.5.11) (0.57.0)\n",
      "Requirement already satisfied: zipp>=0.5 in /Users/joel.gongora/opt/anaconda3/envs/drum/lib/python3.7/site-packages (from importlib-metadata<2,>=0.23->argcomplete==1.11.1->datarobot_drum==1.5.11) (3.5.0)\n",
      "Requirement already satisfied: psutil in /Users/joel.gongora/opt/anaconda3/envs/drum/lib/python3.7/site-packages (from memory-profiler<1.0.0->datarobot_drum==1.5.11) (5.8.0)\n",
      "Collecting flask-cors\n",
      "  Using cached Flask_Cors-3.0.10-py2.py3-none-any.whl (14 kB)\n",
      "Requirement already satisfied: termcolor in /Users/joel.gongora/opt/anaconda3/envs/drum/lib/python3.7/site-packages (from mlpiper~=2.4.0->datarobot_drum==1.5.11) (1.1.0)\n",
      "Requirement already satisfied: future in /Users/joel.gongora/opt/anaconda3/envs/drum/lib/python3.7/site-packages (from mlpiper~=2.4.0->datarobot_drum==1.5.11) (0.18.2)\n",
      "Collecting uwsgi\n",
      "  Using cached uWSGI-2.0.19.1.tar.gz (803 kB)\n",
      "Requirement already satisfied: pytz>=2017.2 in /Users/joel.gongora/opt/anaconda3/envs/drum/lib/python3.7/site-packages (from pandas<1.3.1,>=1.0.5->datarobot_drum==1.5.11) (2021.1)\n",
      "Requirement already satisfied: six>=1.5 in /Users/joel.gongora/opt/anaconda3/envs/drum/lib/python3.7/site-packages (from python-dateutil>=2.6.0->strictyaml==1.4.2->datarobot_drum==1.5.11) (1.15.0)\n",
      "Requirement already satisfied: certifi>=2017.4.17 in /Users/joel.gongora/opt/anaconda3/envs/drum/lib/python3.7/site-packages (from requests->datarobot_drum==1.5.11) (2021.5.30)\n",
      "Requirement already satisfied: charset-normalizer~=2.0.0 in /Users/joel.gongora/opt/anaconda3/envs/drum/lib/python3.7/site-packages (from requests->datarobot_drum==1.5.11) (2.0.0)\n",
      "Requirement already satisfied: idna<4,>=2.5 in /Users/joel.gongora/opt/anaconda3/envs/drum/lib/python3.7/site-packages (from requests->datarobot_drum==1.5.11) (3.1)\n",
      "Requirement already satisfied: click>=7.1.2 in /Users/joel.gongora/opt/anaconda3/envs/drum/lib/python3.7/site-packages (from flask->datarobot_drum==1.5.11) (8.0.1)\n",
      "Requirement already satisfied: Werkzeug>=2.0 in /Users/joel.gongora/opt/anaconda3/envs/drum/lib/python3.7/site-packages (from flask->datarobot_drum==1.5.11) (2.0.1)\n",
      "Requirement already satisfied: itsdangerous>=2.0 in /Users/joel.gongora/opt/anaconda3/envs/drum/lib/python3.7/site-packages (from flask->datarobot_drum==1.5.11) (2.0.1)\n",
      "Requirement already satisfied: MarkupSafe>=2.0 in /Users/joel.gongora/opt/anaconda3/envs/drum/lib/python3.7/site-packages (from jinja2->datarobot_drum==1.5.11) (2.0.1)\n",
      "Building wheels for collected packages: uwsgi\n",
      "  Building wheel for uwsgi (setup.py) ... \u001b[?25lerror\n",
      "\u001b[31m  ERROR: Command errored out with exit status 1:\n",
      "   command: /Users/joel.gongora/opt/anaconda3/envs/drum/bin/python3.7 -u -c 'import io, os, sys, setuptools, tokenize; sys.argv[0] = '\"'\"'/private/var/folders/nz/89yd1h313yn8t9lr6lw41zf80000gq/T/pip-install-912v0axl/uwsgi_ff1ef3b5d6f24a0e93b717f480881f75/setup.py'\"'\"'; __file__='\"'\"'/private/var/folders/nz/89yd1h313yn8t9lr6lw41zf80000gq/T/pip-install-912v0axl/uwsgi_ff1ef3b5d6f24a0e93b717f480881f75/setup.py'\"'\"';f = getattr(tokenize, '\"'\"'open'\"'\"', open)(__file__) if os.path.exists(__file__) else io.StringIO('\"'\"'from setuptools import setup; setup()'\"'\"');code = f.read().replace('\"'\"'\\r\\n'\"'\"', '\"'\"'\\n'\"'\"');f.close();exec(compile(code, __file__, '\"'\"'exec'\"'\"'))' bdist_wheel -d /private/var/folders/nz/89yd1h313yn8t9lr6lw41zf80000gq/T/pip-wheel-1vh1w7h7\n",
      "       cwd: /private/var/folders/nz/89yd1h313yn8t9lr6lw41zf80000gq/T/pip-install-912v0axl/uwsgi_ff1ef3b5d6f24a0e93b717f480881f75/\n",
      "  Complete output (42 lines):\n",
      "  /Users/joel.gongora/opt/anaconda3/envs/drum/lib/python3.7/distutils/dist.py:274: UserWarning: Unknown distribution option: 'descriptions'\n",
      "    warnings.warn(msg)\n",
      "  running bdist_wheel\n",
      "  running build\n",
      "  running build_py\n",
      "  creating build\n",
      "  creating build/lib\n",
      "  copying uwsgidecorators.py -> build/lib\n",
      "  installing to build/bdist.macosx-10.7-x86_64/wheel\n",
      "  running install\n",
      "  using profile: buildconf/default.ini\n",
      "  detected include path: ['/usr/local/include', '/Applications/Xcode.app/Contents/Developer/Toolchains/XcodeDefault.xctoolchain/usr/lib/clang/12.0.5/include', '/Applications/Xcode.app/Contents/Developer/Platforms/MacOSX.platform/Developer/SDKs/MacOSX.sdk/usr/include', '/Applications/Xcode.app/Contents/Developer/Toolchains/XcodeDefault.xctoolchain/usr/include', '/Applications/Xcode.app/Contents/Developer/Platforms/MacOSX.platform/Developer/SDKs/MacOSX.sdk/System/Library/Frameworks']\n",
      "  Traceback (most recent call last):\n",
      "    File \"/private/var/folders/nz/89yd1h313yn8t9lr6lw41zf80000gq/T/pip-install-912v0axl/uwsgi_ff1ef3b5d6f24a0e93b717f480881f75/uwsgiconfig.py\", line 747, in __init__\n",
      "      gcc_version_components = gcc_version.split('.')\n",
      "  AttributeError: 'NoneType' object has no attribute 'split'\n",
      "  \n",
      "  During handling of the above exception, another exception occurred:\n",
      "  \n",
      "  Traceback (most recent call last):\n",
      "    File \"<string>\", line 1, in <module>\n",
      "    File \"/private/var/folders/nz/89yd1h313yn8t9lr6lw41zf80000gq/T/pip-install-912v0axl/uwsgi_ff1ef3b5d6f24a0e93b717f480881f75/setup.py\", line 140, in <module>\n",
      "      'Programming Language :: Python :: 3.8',\n",
      "    File \"/Users/joel.gongora/opt/anaconda3/envs/drum/lib/python3.7/site-packages/setuptools/__init__.py\", line 153, in setup\n",
      "      return distutils.core.setup(**attrs)\n",
      "    File \"/Users/joel.gongora/opt/anaconda3/envs/drum/lib/python3.7/distutils/core.py\", line 148, in setup\n",
      "      dist.run_commands()\n",
      "    File \"/Users/joel.gongora/opt/anaconda3/envs/drum/lib/python3.7/distutils/dist.py\", line 966, in run_commands\n",
      "      self.run_command(cmd)\n",
      "    File \"/Users/joel.gongora/opt/anaconda3/envs/drum/lib/python3.7/distutils/dist.py\", line 985, in run_command\n",
      "      cmd_obj.run()\n",
      "    File \"/Users/joel.gongora/opt/anaconda3/envs/drum/lib/python3.7/site-packages/wheel/bdist_wheel.py\", line 335, in run\n",
      "      self.run_command('install')\n",
      "    File \"/Users/joel.gongora/opt/anaconda3/envs/drum/lib/python3.7/distutils/cmd.py\", line 313, in run_command\n",
      "      self.distribution.run_command(command)\n",
      "    File \"/Users/joel.gongora/opt/anaconda3/envs/drum/lib/python3.7/distutils/dist.py\", line 985, in run_command\n",
      "      cmd_obj.run()\n",
      "    File \"/private/var/folders/nz/89yd1h313yn8t9lr6lw41zf80000gq/T/pip-install-912v0axl/uwsgi_ff1ef3b5d6f24a0e93b717f480881f75/setup.py\", line 77, in run\n",
      "      conf = uc.uConf(get_profile())\n",
      "    File \"/private/var/folders/nz/89yd1h313yn8t9lr6lw41zf80000gq/T/pip-install-912v0axl/uwsgi_ff1ef3b5d6f24a0e93b717f480881f75/uwsgiconfig.py\", line 755, in __init__\n",
      "      raise Exception(\"you need a C compiler to build uWSGI\")\n",
      "  Exception: you need a C compiler to build uWSGI\n",
      "  ----------------------------------------\u001b[0m\n",
      "\u001b[31m  ERROR: Failed building wheel for uwsgi\u001b[0m\n",
      "\u001b[?25h  Running setup.py clean for uwsgi\n",
      "Failed to build uwsgi\n",
      "Installing collected packages: uwsgi, ruamel.yaml, flask-cors, strictyaml, pyarrow, Pillow, julia, datarobot, argcomplete, datarobot-drum\n",
      "    Running setup.py install for uwsgi ... \u001b[?25lerror\n",
      "\u001b[31m    ERROR: Command errored out with exit status 1:\n",
      "     command: /Users/joel.gongora/opt/anaconda3/envs/drum/bin/python3.7 -u -c 'import io, os, sys, setuptools, tokenize; sys.argv[0] = '\"'\"'/private/var/folders/nz/89yd1h313yn8t9lr6lw41zf80000gq/T/pip-install-912v0axl/uwsgi_ff1ef3b5d6f24a0e93b717f480881f75/setup.py'\"'\"'; __file__='\"'\"'/private/var/folders/nz/89yd1h313yn8t9lr6lw41zf80000gq/T/pip-install-912v0axl/uwsgi_ff1ef3b5d6f24a0e93b717f480881f75/setup.py'\"'\"';f = getattr(tokenize, '\"'\"'open'\"'\"', open)(__file__) if os.path.exists(__file__) else io.StringIO('\"'\"'from setuptools import setup; setup()'\"'\"');code = f.read().replace('\"'\"'\\r\\n'\"'\"', '\"'\"'\\n'\"'\"');f.close();exec(compile(code, __file__, '\"'\"'exec'\"'\"'))' install --record /private/var/folders/nz/89yd1h313yn8t9lr6lw41zf80000gq/T/pip-record-dxfdun1d/install-record.txt --single-version-externally-managed --compile --install-headers /Users/joel.gongora/opt/anaconda3/envs/drum/include/python3.7m/uwsgi\n",
      "         cwd: /private/var/folders/nz/89yd1h313yn8t9lr6lw41zf80000gq/T/pip-install-912v0axl/uwsgi_ff1ef3b5d6f24a0e93b717f480881f75/\n",
      "    Complete output (29 lines):\n",
      "    /Users/joel.gongora/opt/anaconda3/envs/drum/lib/python3.7/distutils/dist.py:274: UserWarning: Unknown distribution option: 'descriptions'\n",
      "      warnings.warn(msg)\n",
      "    running install\n",
      "    using profile: buildconf/default.ini\n",
      "    detected include path: ['/usr/local/include', '/Applications/Xcode.app/Contents/Developer/Toolchains/XcodeDefault.xctoolchain/usr/lib/clang/12.0.5/include', '/Applications/Xcode.app/Contents/Developer/Platforms/MacOSX.platform/Developer/SDKs/MacOSX.sdk/usr/include', '/Applications/Xcode.app/Contents/Developer/Toolchains/XcodeDefault.xctoolchain/usr/include', '/Applications/Xcode.app/Contents/Developer/Platforms/MacOSX.platform/Developer/SDKs/MacOSX.sdk/System/Library/Frameworks']\n",
      "    Traceback (most recent call last):\n",
      "      File \"/private/var/folders/nz/89yd1h313yn8t9lr6lw41zf80000gq/T/pip-install-912v0axl/uwsgi_ff1ef3b5d6f24a0e93b717f480881f75/uwsgiconfig.py\", line 747, in __init__\n",
      "        gcc_version_components = gcc_version.split('.')\n",
      "    AttributeError: 'NoneType' object has no attribute 'split'\n",
      "    \n",
      "    During handling of the above exception, another exception occurred:\n",
      "    \n",
      "    Traceback (most recent call last):\n",
      "      File \"<string>\", line 1, in <module>\n",
      "      File \"/private/var/folders/nz/89yd1h313yn8t9lr6lw41zf80000gq/T/pip-install-912v0axl/uwsgi_ff1ef3b5d6f24a0e93b717f480881f75/setup.py\", line 140, in <module>\n",
      "        'Programming Language :: Python :: 3.8',\n",
      "      File \"/Users/joel.gongora/opt/anaconda3/envs/drum/lib/python3.7/site-packages/setuptools/__init__.py\", line 153, in setup\n",
      "        return distutils.core.setup(**attrs)\n",
      "      File \"/Users/joel.gongora/opt/anaconda3/envs/drum/lib/python3.7/distutils/core.py\", line 148, in setup\n",
      "        dist.run_commands()\n",
      "      File \"/Users/joel.gongora/opt/anaconda3/envs/drum/lib/python3.7/distutils/dist.py\", line 966, in run_commands\n",
      "        self.run_command(cmd)\n",
      "      File \"/Users/joel.gongora/opt/anaconda3/envs/drum/lib/python3.7/distutils/dist.py\", line 985, in run_command\n",
      "        cmd_obj.run()\n",
      "      File \"/private/var/folders/nz/89yd1h313yn8t9lr6lw41zf80000gq/T/pip-install-912v0axl/uwsgi_ff1ef3b5d6f24a0e93b717f480881f75/setup.py\", line 77, in run\n",
      "        conf = uc.uConf(get_profile())\n",
      "      File \"/private/var/folders/nz/89yd1h313yn8t9lr6lw41zf80000gq/T/pip-install-912v0axl/uwsgi_ff1ef3b5d6f24a0e93b717f480881f75/uwsgiconfig.py\", line 755, in __init__\n",
      "        raise Exception(\"you need a C compiler to build uWSGI\")\n",
      "    Exception: you need a C compiler to build uWSGI\n",
      "    ----------------------------------------\u001b[0m\n",
      "\u001b[31mERROR: Command errored out with exit status 1: /Users/joel.gongora/opt/anaconda3/envs/drum/bin/python3.7 -u -c 'import io, os, sys, setuptools, tokenize; sys.argv[0] = '\"'\"'/private/var/folders/nz/89yd1h313yn8t9lr6lw41zf80000gq/T/pip-install-912v0axl/uwsgi_ff1ef3b5d6f24a0e93b717f480881f75/setup.py'\"'\"'; __file__='\"'\"'/private/var/folders/nz/89yd1h313yn8t9lr6lw41zf80000gq/T/pip-install-912v0axl/uwsgi_ff1ef3b5d6f24a0e93b717f480881f75/setup.py'\"'\"';f = getattr(tokenize, '\"'\"'open'\"'\"', open)(__file__) if os.path.exists(__file__) else io.StringIO('\"'\"'from setuptools import setup; setup()'\"'\"');code = f.read().replace('\"'\"'\\r\\n'\"'\"', '\"'\"'\\n'\"'\"');f.close();exec(compile(code, __file__, '\"'\"'exec'\"'\"'))' install --record /private/var/folders/nz/89yd1h313yn8t9lr6lw41zf80000gq/T/pip-record-dxfdun1d/install-record.txt --single-version-externally-managed --compile --install-headers /Users/joel.gongora/opt/anaconda3/envs/drum/include/python3.7m/uwsgi Check the logs for full command output.\u001b[0m\n",
      "\u001b[?25h"
     ]
    }
   ],
   "source": [
    "!pip install datarobot_drum==1.5.11"
   ]
  },
  {
   "cell_type": "code",
   "execution_count": 12,
   "metadata": {},
   "outputs": [
    {
     "name": "stdout",
     "output_type": "stream",
     "text": [
      "Collecting PyYAML==5.3.1\n",
      "  Using cached PyYAML-5.3.1-cp37-cp37m-macosx_10_7_x86_64.whl\n",
      "Collecting xgboost==1.2.1\n",
      "  Using cached xgboost-1.2.1-py3-none-macosx_10_13_x86_64.macosx_10_14_x86_64.macosx_10_15_x86_64.whl (1.2 MB)\n",
      "Collecting datarobot-drum\n",
      "  Using cached datarobot_drum-1.5.11-py3-none-any.whl (8.8 MB)\n",
      "Requirement already satisfied: pandas==1.1.5 in /Users/joel.gongora/opt/anaconda3/envs/drum/lib/python3.7/site-packages (from -r ../drum_overview/requirements.txt (line 4)) (1.1.5)\n",
      "Collecting scikit-learn==0.23.2\n",
      "  Using cached scikit_learn-0.23.2-cp37-cp37m-macosx_10_9_x86_64.whl (7.2 MB)\n",
      "Collecting tensorflow==2.5.0\n",
      "  Using cached tensorflow-2.5.0-cp37-cp37m-macosx_10_11_x86_64.whl (195.6 MB)\n",
      "Requirement already satisfied: numpy in /Users/joel.gongora/opt/anaconda3/envs/drum/lib/python3.7/site-packages (from xgboost==1.2.1->-r ../drum_overview/requirements.txt (line 2)) (1.19.5)\n",
      "Requirement already satisfied: scipy in /Users/joel.gongora/opt/anaconda3/envs/drum/lib/python3.7/site-packages (from xgboost==1.2.1->-r ../drum_overview/requirements.txt (line 2)) (1.7.1)\n",
      "Requirement already satisfied: pytz>=2017.2 in /Users/joel.gongora/opt/anaconda3/envs/drum/lib/python3.7/site-packages (from pandas==1.1.5->-r ../drum_overview/requirements.txt (line 4)) (2021.1)\n",
      "Requirement already satisfied: python-dateutil>=2.7.3 in /Users/joel.gongora/opt/anaconda3/envs/drum/lib/python3.7/site-packages (from pandas==1.1.5->-r ../drum_overview/requirements.txt (line 4)) (2.8.2)\n",
      "Requirement already satisfied: threadpoolctl>=2.0.0 in /Users/joel.gongora/opt/anaconda3/envs/drum/lib/python3.7/site-packages (from scikit-learn==0.23.2->-r ../drum_overview/requirements.txt (line 5)) (2.2.0)\n",
      "Requirement already satisfied: joblib>=0.11 in /Users/joel.gongora/opt/anaconda3/envs/drum/lib/python3.7/site-packages (from scikit-learn==0.23.2->-r ../drum_overview/requirements.txt (line 5)) (1.0.1)\n",
      "Requirement already satisfied: wrapt~=1.12.1 in /Users/joel.gongora/opt/anaconda3/envs/drum/lib/python3.7/site-packages (from tensorflow==2.5.0->-r ../drum_overview/requirements.txt (line 6)) (1.12.1)\n",
      "Requirement already satisfied: keras-preprocessing~=1.1.2 in /Users/joel.gongora/opt/anaconda3/envs/drum/lib/python3.7/site-packages (from tensorflow==2.5.0->-r ../drum_overview/requirements.txt (line 6)) (1.1.2)\n",
      "Requirement already satisfied: h5py~=3.1.0 in /Users/joel.gongora/opt/anaconda3/envs/drum/lib/python3.7/site-packages (from tensorflow==2.5.0->-r ../drum_overview/requirements.txt (line 6)) (3.1.0)\n",
      "Requirement already satisfied: typing-extensions~=3.7.4 in /Users/joel.gongora/opt/anaconda3/envs/drum/lib/python3.7/site-packages (from tensorflow==2.5.0->-r ../drum_overview/requirements.txt (line 6)) (3.7.4.3)\n",
      "Requirement already satisfied: tensorboard~=2.5 in /Users/joel.gongora/opt/anaconda3/envs/drum/lib/python3.7/site-packages (from tensorflow==2.5.0->-r ../drum_overview/requirements.txt (line 6)) (2.6.0)\n",
      "Requirement already satisfied: opt-einsum~=3.3.0 in /Users/joel.gongora/opt/anaconda3/envs/drum/lib/python3.7/site-packages (from tensorflow==2.5.0->-r ../drum_overview/requirements.txt (line 6)) (3.3.0)\n",
      "Collecting keras-nightly~=2.5.0.dev\n",
      "  Using cached keras_nightly-2.5.0.dev2021032900-py2.py3-none-any.whl (1.2 MB)\n",
      "Requirement already satisfied: absl-py~=0.10 in /Users/joel.gongora/opt/anaconda3/envs/drum/lib/python3.7/site-packages (from tensorflow==2.5.0->-r ../drum_overview/requirements.txt (line 6)) (0.13.0)\n",
      "Requirement already satisfied: astunparse~=1.6.3 in /Users/joel.gongora/opt/anaconda3/envs/drum/lib/python3.7/site-packages (from tensorflow==2.5.0->-r ../drum_overview/requirements.txt (line 6)) (1.6.3)\n",
      "Requirement already satisfied: gast==0.4.0 in /Users/joel.gongora/opt/anaconda3/envs/drum/lib/python3.7/site-packages (from tensorflow==2.5.0->-r ../drum_overview/requirements.txt (line 6)) (0.4.0)\n",
      "Requirement already satisfied: wheel~=0.35 in /Users/joel.gongora/opt/anaconda3/envs/drum/lib/python3.7/site-packages (from tensorflow==2.5.0->-r ../drum_overview/requirements.txt (line 6)) (0.37.0)\n",
      "Collecting grpcio~=1.34.0\n",
      "  Using cached grpcio-1.34.1-cp37-cp37m-macosx_10_10_x86_64.whl (3.7 MB)\n",
      "Requirement already satisfied: flatbuffers~=1.12.0 in /Users/joel.gongora/opt/anaconda3/envs/drum/lib/python3.7/site-packages (from tensorflow==2.5.0->-r ../drum_overview/requirements.txt (line 6)) (1.12)\n",
      "Requirement already satisfied: google-pasta~=0.2 in /Users/joel.gongora/opt/anaconda3/envs/drum/lib/python3.7/site-packages (from tensorflow==2.5.0->-r ../drum_overview/requirements.txt (line 6)) (0.2.0)\n",
      "Requirement already satisfied: protobuf>=3.9.2 in /Users/joel.gongora/opt/anaconda3/envs/drum/lib/python3.7/site-packages (from tensorflow==2.5.0->-r ../drum_overview/requirements.txt (line 6)) (3.17.3)\n",
      "Collecting tensorflow-estimator<2.6.0,>=2.5.0rc0\n",
      "  Using cached tensorflow_estimator-2.5.0-py2.py3-none-any.whl (462 kB)\n",
      "Requirement already satisfied: six~=1.15.0 in /Users/joel.gongora/opt/anaconda3/envs/drum/lib/python3.7/site-packages (from tensorflow==2.5.0->-r ../drum_overview/requirements.txt (line 6)) (1.15.0)\n",
      "Requirement already satisfied: termcolor~=1.1.0 in /Users/joel.gongora/opt/anaconda3/envs/drum/lib/python3.7/site-packages (from tensorflow==2.5.0->-r ../drum_overview/requirements.txt (line 6)) (1.1.0)\n",
      "Requirement already satisfied: jinja2 in /Users/joel.gongora/opt/anaconda3/envs/drum/lib/python3.7/site-packages (from datarobot-drum->-r ../drum_overview/requirements.txt (line 3)) (3.0.1)\n",
      "Requirement already satisfied: memory-profiler<1.0.0 in /Users/joel.gongora/opt/anaconda3/envs/drum/lib/python3.7/site-packages (from datarobot-drum->-r ../drum_overview/requirements.txt (line 3)) (0.58.0)\n",
      "Collecting strictyaml==1.4.2\n",
      "  Using cached strictyaml-1.4.2-py3-none-any.whl\n",
      "Collecting julia==0.5.6\n",
      "  Using cached julia-0.5.6-py2.py3-none-any.whl (67 kB)\n",
      "Collecting datarobot==2.24.0\n",
      "  Using cached datarobot-2.24.0-py3-none-any.whl (418 kB)\n",
      "Requirement already satisfied: docker>=4.2.2<5.0.0 in /Users/joel.gongora/opt/anaconda3/envs/drum/lib/python3.7/site-packages (from datarobot-drum->-r ../drum_overview/requirements.txt (line 3)) (5.0.2)\n",
      "Collecting pyarrow==2.0.0\n",
      "  Using cached pyarrow-2.0.0-cp37-cp37m-macosx_10_13_x86_64.whl (13.4 MB)\n",
      "Collecting Pillow==8.2.0\n",
      "  Using cached Pillow-8.2.0-cp37-cp37m-macosx_10_10_x86_64.whl (2.8 MB)\n",
      "Requirement already satisfied: progress in /Users/joel.gongora/opt/anaconda3/envs/drum/lib/python3.7/site-packages (from datarobot-drum->-r ../drum_overview/requirements.txt (line 3)) (1.6)\n",
      "Requirement already satisfied: flask in /Users/joel.gongora/opt/anaconda3/envs/drum/lib/python3.7/site-packages (from datarobot-drum->-r ../drum_overview/requirements.txt (line 3)) (2.0.1)\n",
      "Collecting argcomplete==1.11.1\n",
      "  Using cached argcomplete-1.11.1-py2.py3-none-any.whl (36 kB)\n",
      "Requirement already satisfied: mlpiper~=2.4.0 in /Users/joel.gongora/opt/anaconda3/envs/drum/lib/python3.7/site-packages (from datarobot-drum->-r ../drum_overview/requirements.txt (line 3)) (2.4.2)\n",
      "Requirement already satisfied: requests in /Users/joel.gongora/opt/anaconda3/envs/drum/lib/python3.7/site-packages (from datarobot-drum->-r ../drum_overview/requirements.txt (line 3)) (2.26.0)\n",
      "Requirement already satisfied: texttable in /Users/joel.gongora/opt/anaconda3/envs/drum/lib/python3.7/site-packages (from datarobot-drum->-r ../drum_overview/requirements.txt (line 3)) (1.6.4)\n",
      "Requirement already satisfied: py4j~=0.10.9.0 in /Users/joel.gongora/opt/anaconda3/envs/drum/lib/python3.7/site-packages (from datarobot-drum->-r ../drum_overview/requirements.txt (line 3)) (0.10.9.2)\n",
      "Requirement already satisfied: importlib-metadata<2,>=0.23 in /Users/joel.gongora/opt/anaconda3/envs/drum/lib/python3.7/site-packages (from argcomplete==1.11.1->datarobot-drum->-r ../drum_overview/requirements.txt (line 3)) (1.7.0)\n",
      "Requirement already satisfied: trafaret!=1.1.0,<2.0,>=0.7 in /Users/joel.gongora/opt/anaconda3/envs/drum/lib/python3.7/site-packages (from datarobot==2.24.0->datarobot-drum->-r ../drum_overview/requirements.txt (line 3)) (1.2.0)\n",
      "Requirement already satisfied: urllib3>=1.23 in /Users/joel.gongora/opt/anaconda3/envs/drum/lib/python3.7/site-packages (from datarobot==2.24.0->datarobot-drum->-r ../drum_overview/requirements.txt (line 3)) (1.26.6)\n",
      "Requirement already satisfied: attrs<20.0,>=19.1.0 in /Users/joel.gongora/opt/anaconda3/envs/drum/lib/python3.7/site-packages (from datarobot==2.24.0->datarobot-drum->-r ../drum_overview/requirements.txt (line 3)) (19.3.0)\n",
      "Requirement already satisfied: requests-toolbelt>=0.6 in /Users/joel.gongora/opt/anaconda3/envs/drum/lib/python3.7/site-packages (from datarobot==2.24.0->datarobot-drum->-r ../drum_overview/requirements.txt (line 3)) (0.9.1)\n",
      "Requirement already satisfied: contextlib2>=0.5.5 in /Users/joel.gongora/opt/anaconda3/envs/drum/lib/python3.7/site-packages (from datarobot==2.24.0->datarobot-drum->-r ../drum_overview/requirements.txt (line 3)) (21.6.0)\n",
      "Collecting ruamel.yaml==0.17.4\n",
      "  Using cached ruamel.yaml-0.17.4-py3-none-any.whl (101 kB)\n",
      "Requirement already satisfied: ruamel.yaml.clib>=0.1.2 in /Users/joel.gongora/opt/anaconda3/envs/drum/lib/python3.7/site-packages (from ruamel.yaml==0.17.4->strictyaml==1.4.2->datarobot-drum->-r ../drum_overview/requirements.txt (line 3)) (0.2.6)\n",
      "Requirement already satisfied: websocket-client>=0.32.0 in /Users/joel.gongora/opt/anaconda3/envs/drum/lib/python3.7/site-packages (from docker>=4.2.2<5.0.0->datarobot-drum->-r ../drum_overview/requirements.txt (line 3)) (0.57.0)\n",
      "Requirement already satisfied: cached-property in /Users/joel.gongora/opt/anaconda3/envs/drum/lib/python3.7/site-packages (from h5py~=3.1.0->tensorflow==2.5.0->-r ../drum_overview/requirements.txt (line 6)) (1.5.2)\n",
      "Requirement already satisfied: zipp>=0.5 in /Users/joel.gongora/opt/anaconda3/envs/drum/lib/python3.7/site-packages (from importlib-metadata<2,>=0.23->argcomplete==1.11.1->datarobot-drum->-r ../drum_overview/requirements.txt (line 3)) (3.5.0)\n",
      "Requirement already satisfied: psutil in /Users/joel.gongora/opt/anaconda3/envs/drum/lib/python3.7/site-packages (from memory-profiler<1.0.0->datarobot-drum->-r ../drum_overview/requirements.txt (line 3)) (5.8.0)\n",
      "Requirement already satisfied: future in /Users/joel.gongora/opt/anaconda3/envs/drum/lib/python3.7/site-packages (from mlpiper~=2.4.0->datarobot-drum->-r ../drum_overview/requirements.txt (line 3)) (0.18.2)\n",
      "Collecting flask-cors\n",
      "  Using cached Flask_Cors-3.0.10-py2.py3-none-any.whl (14 kB)\n",
      "Collecting uwsgi\n",
      "  Using cached uWSGI-2.0.19.1.tar.gz (803 kB)\n",
      "Requirement already satisfied: idna<4,>=2.5 in /Users/joel.gongora/opt/anaconda3/envs/drum/lib/python3.7/site-packages (from requests->datarobot-drum->-r ../drum_overview/requirements.txt (line 3)) (3.1)\n",
      "Requirement already satisfied: certifi>=2017.4.17 in /Users/joel.gongora/opt/anaconda3/envs/drum/lib/python3.7/site-packages (from requests->datarobot-drum->-r ../drum_overview/requirements.txt (line 3)) (2021.5.30)\n",
      "Requirement already satisfied: charset-normalizer~=2.0.0 in /Users/joel.gongora/opt/anaconda3/envs/drum/lib/python3.7/site-packages (from requests->datarobot-drum->-r ../drum_overview/requirements.txt (line 3)) (2.0.0)\n",
      "Requirement already satisfied: werkzeug>=0.11.15 in /Users/joel.gongora/opt/anaconda3/envs/drum/lib/python3.7/site-packages (from tensorboard~=2.5->tensorflow==2.5.0->-r ../drum_overview/requirements.txt (line 6)) (2.0.1)\n",
      "Requirement already satisfied: google-auth-oauthlib<0.5,>=0.4.1 in /Users/joel.gongora/opt/anaconda3/envs/drum/lib/python3.7/site-packages (from tensorboard~=2.5->tensorflow==2.5.0->-r ../drum_overview/requirements.txt (line 6)) (0.4.6)\n",
      "Requirement already satisfied: google-auth<2,>=1.6.3 in /Users/joel.gongora/opt/anaconda3/envs/drum/lib/python3.7/site-packages (from tensorboard~=2.5->tensorflow==2.5.0->-r ../drum_overview/requirements.txt (line 6)) (1.35.0)\n",
      "Requirement already satisfied: setuptools>=41.0.0 in /Users/joel.gongora/opt/anaconda3/envs/drum/lib/python3.7/site-packages (from tensorboard~=2.5->tensorflow==2.5.0->-r ../drum_overview/requirements.txt (line 6)) (57.4.0)\n",
      "Requirement already satisfied: markdown>=2.6.8 in /Users/joel.gongora/opt/anaconda3/envs/drum/lib/python3.7/site-packages (from tensorboard~=2.5->tensorflow==2.5.0->-r ../drum_overview/requirements.txt (line 6)) (3.3.4)\n",
      "Requirement already satisfied: tensorboard-data-server<0.7.0,>=0.6.0 in /Users/joel.gongora/opt/anaconda3/envs/drum/lib/python3.7/site-packages (from tensorboard~=2.5->tensorflow==2.5.0->-r ../drum_overview/requirements.txt (line 6)) (0.6.1)\n",
      "Requirement already satisfied: tensorboard-plugin-wit>=1.6.0 in /Users/joel.gongora/opt/anaconda3/envs/drum/lib/python3.7/site-packages (from tensorboard~=2.5->tensorflow==2.5.0->-r ../drum_overview/requirements.txt (line 6)) (1.8.0)\n",
      "Requirement already satisfied: cachetools<5.0,>=2.0.0 in /Users/joel.gongora/opt/anaconda3/envs/drum/lib/python3.7/site-packages (from google-auth<2,>=1.6.3->tensorboard~=2.5->tensorflow==2.5.0->-r ../drum_overview/requirements.txt (line 6)) (4.2.2)\n",
      "Requirement already satisfied: pyasn1-modules>=0.2.1 in /Users/joel.gongora/opt/anaconda3/envs/drum/lib/python3.7/site-packages (from google-auth<2,>=1.6.3->tensorboard~=2.5->tensorflow==2.5.0->-r ../drum_overview/requirements.txt (line 6)) (0.2.8)\n",
      "Requirement already satisfied: rsa<5,>=3.1.4 in /Users/joel.gongora/opt/anaconda3/envs/drum/lib/python3.7/site-packages (from google-auth<2,>=1.6.3->tensorboard~=2.5->tensorflow==2.5.0->-r ../drum_overview/requirements.txt (line 6)) (4.7.2)\n",
      "Requirement already satisfied: requests-oauthlib>=0.7.0 in /Users/joel.gongora/opt/anaconda3/envs/drum/lib/python3.7/site-packages (from google-auth-oauthlib<0.5,>=0.4.1->tensorboard~=2.5->tensorflow==2.5.0->-r ../drum_overview/requirements.txt (line 6)) (1.3.0)\n",
      "Requirement already satisfied: pyasn1<0.5.0,>=0.4.6 in /Users/joel.gongora/opt/anaconda3/envs/drum/lib/python3.7/site-packages (from pyasn1-modules>=0.2.1->google-auth<2,>=1.6.3->tensorboard~=2.5->tensorflow==2.5.0->-r ../drum_overview/requirements.txt (line 6)) (0.4.8)\n",
      "Requirement already satisfied: oauthlib>=3.0.0 in /Users/joel.gongora/opt/anaconda3/envs/drum/lib/python3.7/site-packages (from requests-oauthlib>=0.7.0->google-auth-oauthlib<0.5,>=0.4.1->tensorboard~=2.5->tensorflow==2.5.0->-r ../drum_overview/requirements.txt (line 6)) (3.1.1)\n",
      "Requirement already satisfied: click>=7.1.2 in /Users/joel.gongora/opt/anaconda3/envs/drum/lib/python3.7/site-packages (from flask->datarobot-drum->-r ../drum_overview/requirements.txt (line 3)) (8.0.1)\n",
      "Requirement already satisfied: itsdangerous>=2.0 in /Users/joel.gongora/opt/anaconda3/envs/drum/lib/python3.7/site-packages (from flask->datarobot-drum->-r ../drum_overview/requirements.txt (line 3)) (2.0.1)\n",
      "Requirement already satisfied: MarkupSafe>=2.0 in /Users/joel.gongora/opt/anaconda3/envs/drum/lib/python3.7/site-packages (from jinja2->datarobot-drum->-r ../drum_overview/requirements.txt (line 3)) (2.0.1)\n",
      "Building wheels for collected packages: uwsgi\n",
      "  Building wheel for uwsgi (setup.py) ... \u001b[?25lerror\n",
      "\u001b[31m  ERROR: Command errored out with exit status 1:\n",
      "   command: /Users/joel.gongora/opt/anaconda3/envs/drum/bin/python3.7 -u -c 'import io, os, sys, setuptools, tokenize; sys.argv[0] = '\"'\"'/private/var/folders/nz/89yd1h313yn8t9lr6lw41zf80000gq/T/pip-install-p3wzzqib/uwsgi_9e899de71e624380b3a5fe2e1dacf39d/setup.py'\"'\"'; __file__='\"'\"'/private/var/folders/nz/89yd1h313yn8t9lr6lw41zf80000gq/T/pip-install-p3wzzqib/uwsgi_9e899de71e624380b3a5fe2e1dacf39d/setup.py'\"'\"';f = getattr(tokenize, '\"'\"'open'\"'\"', open)(__file__) if os.path.exists(__file__) else io.StringIO('\"'\"'from setuptools import setup; setup()'\"'\"');code = f.read().replace('\"'\"'\\r\\n'\"'\"', '\"'\"'\\n'\"'\"');f.close();exec(compile(code, __file__, '\"'\"'exec'\"'\"'))' bdist_wheel -d /private/var/folders/nz/89yd1h313yn8t9lr6lw41zf80000gq/T/pip-wheel-j8ndn1mx\n",
      "       cwd: /private/var/folders/nz/89yd1h313yn8t9lr6lw41zf80000gq/T/pip-install-p3wzzqib/uwsgi_9e899de71e624380b3a5fe2e1dacf39d/\n",
      "  Complete output (42 lines):\n",
      "  /Users/joel.gongora/opt/anaconda3/envs/drum/lib/python3.7/distutils/dist.py:274: UserWarning: Unknown distribution option: 'descriptions'\n",
      "    warnings.warn(msg)\n",
      "  running bdist_wheel\n",
      "  running build\n",
      "  running build_py\n",
      "  creating build\n",
      "  creating build/lib\n",
      "  copying uwsgidecorators.py -> build/lib\n",
      "  installing to build/bdist.macosx-10.7-x86_64/wheel\n",
      "  running install\n",
      "  using profile: buildconf/default.ini\n",
      "  detected include path: ['/usr/local/include', '/Applications/Xcode.app/Contents/Developer/Toolchains/XcodeDefault.xctoolchain/usr/lib/clang/12.0.5/include', '/Applications/Xcode.app/Contents/Developer/Platforms/MacOSX.platform/Developer/SDKs/MacOSX.sdk/usr/include', '/Applications/Xcode.app/Contents/Developer/Toolchains/XcodeDefault.xctoolchain/usr/include', '/Applications/Xcode.app/Contents/Developer/Platforms/MacOSX.platform/Developer/SDKs/MacOSX.sdk/System/Library/Frameworks']\n",
      "  Traceback (most recent call last):\n",
      "    File \"/private/var/folders/nz/89yd1h313yn8t9lr6lw41zf80000gq/T/pip-install-p3wzzqib/uwsgi_9e899de71e624380b3a5fe2e1dacf39d/uwsgiconfig.py\", line 747, in __init__\n",
      "      gcc_version_components = gcc_version.split('.')\n",
      "  AttributeError: 'NoneType' object has no attribute 'split'\n",
      "  \n",
      "  During handling of the above exception, another exception occurred:\n",
      "  \n",
      "  Traceback (most recent call last):\n",
      "    File \"<string>\", line 1, in <module>\n",
      "    File \"/private/var/folders/nz/89yd1h313yn8t9lr6lw41zf80000gq/T/pip-install-p3wzzqib/uwsgi_9e899de71e624380b3a5fe2e1dacf39d/setup.py\", line 140, in <module>\n",
      "      'Programming Language :: Python :: 3.8',\n",
      "    File \"/Users/joel.gongora/opt/anaconda3/envs/drum/lib/python3.7/site-packages/setuptools/__init__.py\", line 153, in setup\n",
      "      return distutils.core.setup(**attrs)\n",
      "    File \"/Users/joel.gongora/opt/anaconda3/envs/drum/lib/python3.7/distutils/core.py\", line 148, in setup\n",
      "      dist.run_commands()\n",
      "    File \"/Users/joel.gongora/opt/anaconda3/envs/drum/lib/python3.7/distutils/dist.py\", line 966, in run_commands\n",
      "      self.run_command(cmd)\n",
      "    File \"/Users/joel.gongora/opt/anaconda3/envs/drum/lib/python3.7/distutils/dist.py\", line 985, in run_command\n",
      "      cmd_obj.run()\n",
      "    File \"/Users/joel.gongora/opt/anaconda3/envs/drum/lib/python3.7/site-packages/wheel/bdist_wheel.py\", line 335, in run\n",
      "      self.run_command('install')\n",
      "    File \"/Users/joel.gongora/opt/anaconda3/envs/drum/lib/python3.7/distutils/cmd.py\", line 313, in run_command\n",
      "      self.distribution.run_command(command)\n",
      "    File \"/Users/joel.gongora/opt/anaconda3/envs/drum/lib/python3.7/distutils/dist.py\", line 985, in run_command\n",
      "      cmd_obj.run()\n",
      "    File \"/private/var/folders/nz/89yd1h313yn8t9lr6lw41zf80000gq/T/pip-install-p3wzzqib/uwsgi_9e899de71e624380b3a5fe2e1dacf39d/setup.py\", line 77, in run\n",
      "      conf = uc.uConf(get_profile())\n",
      "    File \"/private/var/folders/nz/89yd1h313yn8t9lr6lw41zf80000gq/T/pip-install-p3wzzqib/uwsgi_9e899de71e624380b3a5fe2e1dacf39d/uwsgiconfig.py\", line 755, in __init__\n",
      "      raise Exception(\"you need a C compiler to build uWSGI\")\n",
      "  Exception: you need a C compiler to build uWSGI\n",
      "  ----------------------------------------\u001b[0m\n",
      "\u001b[31m  ERROR: Failed building wheel for uwsgi\u001b[0m\n",
      "\u001b[?25h  Running setup.py clean for uwsgi\n",
      "Failed to build uwsgi\n",
      "Installing collected packages: uwsgi, ruamel.yaml, PyYAML, grpcio, flask-cors, tensorflow-estimator, strictyaml, pyarrow, Pillow, keras-nightly, julia, datarobot, argcomplete, xgboost, tensorflow, scikit-learn, datarobot-drum\n",
      "    Running setup.py install for uwsgi ... \u001b[?25lerror\n",
      "\u001b[31m    ERROR: Command errored out with exit status 1:\n",
      "     command: /Users/joel.gongora/opt/anaconda3/envs/drum/bin/python3.7 -u -c 'import io, os, sys, setuptools, tokenize; sys.argv[0] = '\"'\"'/private/var/folders/nz/89yd1h313yn8t9lr6lw41zf80000gq/T/pip-install-p3wzzqib/uwsgi_9e899de71e624380b3a5fe2e1dacf39d/setup.py'\"'\"'; __file__='\"'\"'/private/var/folders/nz/89yd1h313yn8t9lr6lw41zf80000gq/T/pip-install-p3wzzqib/uwsgi_9e899de71e624380b3a5fe2e1dacf39d/setup.py'\"'\"';f = getattr(tokenize, '\"'\"'open'\"'\"', open)(__file__) if os.path.exists(__file__) else io.StringIO('\"'\"'from setuptools import setup; setup()'\"'\"');code = f.read().replace('\"'\"'\\r\\n'\"'\"', '\"'\"'\\n'\"'\"');f.close();exec(compile(code, __file__, '\"'\"'exec'\"'\"'))' install --record /private/var/folders/nz/89yd1h313yn8t9lr6lw41zf80000gq/T/pip-record-yawya1ln/install-record.txt --single-version-externally-managed --compile --install-headers /Users/joel.gongora/opt/anaconda3/envs/drum/include/python3.7m/uwsgi\n",
      "         cwd: /private/var/folders/nz/89yd1h313yn8t9lr6lw41zf80000gq/T/pip-install-p3wzzqib/uwsgi_9e899de71e624380b3a5fe2e1dacf39d/\n",
      "    Complete output (29 lines):\n",
      "    /Users/joel.gongora/opt/anaconda3/envs/drum/lib/python3.7/distutils/dist.py:274: UserWarning: Unknown distribution option: 'descriptions'\n",
      "      warnings.warn(msg)\n",
      "    running install\n",
      "    using profile: buildconf/default.ini\n",
      "    detected include path: ['/usr/local/include', '/Applications/Xcode.app/Contents/Developer/Toolchains/XcodeDefault.xctoolchain/usr/lib/clang/12.0.5/include', '/Applications/Xcode.app/Contents/Developer/Platforms/MacOSX.platform/Developer/SDKs/MacOSX.sdk/usr/include', '/Applications/Xcode.app/Contents/Developer/Toolchains/XcodeDefault.xctoolchain/usr/include', '/Applications/Xcode.app/Contents/Developer/Platforms/MacOSX.platform/Developer/SDKs/MacOSX.sdk/System/Library/Frameworks']\n",
      "    Traceback (most recent call last):\n",
      "      File \"/private/var/folders/nz/89yd1h313yn8t9lr6lw41zf80000gq/T/pip-install-p3wzzqib/uwsgi_9e899de71e624380b3a5fe2e1dacf39d/uwsgiconfig.py\", line 747, in __init__\n",
      "        gcc_version_components = gcc_version.split('.')\n",
      "    AttributeError: 'NoneType' object has no attribute 'split'\n",
      "    \n",
      "    During handling of the above exception, another exception occurred:\n",
      "    \n",
      "    Traceback (most recent call last):\n",
      "      File \"<string>\", line 1, in <module>\n",
      "      File \"/private/var/folders/nz/89yd1h313yn8t9lr6lw41zf80000gq/T/pip-install-p3wzzqib/uwsgi_9e899de71e624380b3a5fe2e1dacf39d/setup.py\", line 140, in <module>\n",
      "        'Programming Language :: Python :: 3.8',\n",
      "      File \"/Users/joel.gongora/opt/anaconda3/envs/drum/lib/python3.7/site-packages/setuptools/__init__.py\", line 153, in setup\n",
      "        return distutils.core.setup(**attrs)\n",
      "      File \"/Users/joel.gongora/opt/anaconda3/envs/drum/lib/python3.7/distutils/core.py\", line 148, in setup\n",
      "        dist.run_commands()\n",
      "      File \"/Users/joel.gongora/opt/anaconda3/envs/drum/lib/python3.7/distutils/dist.py\", line 966, in run_commands\n",
      "        self.run_command(cmd)\n",
      "      File \"/Users/joel.gongora/opt/anaconda3/envs/drum/lib/python3.7/distutils/dist.py\", line 985, in run_command\n",
      "        cmd_obj.run()\n",
      "      File \"/private/var/folders/nz/89yd1h313yn8t9lr6lw41zf80000gq/T/pip-install-p3wzzqib/uwsgi_9e899de71e624380b3a5fe2e1dacf39d/setup.py\", line 77, in run\n",
      "        conf = uc.uConf(get_profile())\n",
      "      File \"/private/var/folders/nz/89yd1h313yn8t9lr6lw41zf80000gq/T/pip-install-p3wzzqib/uwsgi_9e899de71e624380b3a5fe2e1dacf39d/uwsgiconfig.py\", line 755, in __init__\n",
      "        raise Exception(\"you need a C compiler to build uWSGI\")\n",
      "    Exception: you need a C compiler to build uWSGI\n",
      "    ----------------------------------------\u001b[0m\n",
      "\u001b[31mERROR: Command errored out with exit status 1: /Users/joel.gongora/opt/anaconda3/envs/drum/bin/python3.7 -u -c 'import io, os, sys, setuptools, tokenize; sys.argv[0] = '\"'\"'/private/var/folders/nz/89yd1h313yn8t9lr6lw41zf80000gq/T/pip-install-p3wzzqib/uwsgi_9e899de71e624380b3a5fe2e1dacf39d/setup.py'\"'\"'; __file__='\"'\"'/private/var/folders/nz/89yd1h313yn8t9lr6lw41zf80000gq/T/pip-install-p3wzzqib/uwsgi_9e899de71e624380b3a5fe2e1dacf39d/setup.py'\"'\"';f = getattr(tokenize, '\"'\"'open'\"'\"', open)(__file__) if os.path.exists(__file__) else io.StringIO('\"'\"'from setuptools import setup; setup()'\"'\"');code = f.read().replace('\"'\"'\\r\\n'\"'\"', '\"'\"'\\n'\"'\"');f.close();exec(compile(code, __file__, '\"'\"'exec'\"'\"'))' install --record /private/var/folders/nz/89yd1h313yn8t9lr6lw41zf80000gq/T/pip-record-yawya1ln/install-record.txt --single-version-externally-managed --compile --install-headers /Users/joel.gongora/opt/anaconda3/envs/drum/include/python3.7m/uwsgi Check the logs for full command output.\u001b[0m\n",
      "\u001b[?25h"
     ]
    }
   ],
   "source": [
    "!pip install -r ../drum_overview/requirements.txt"
   ]
  },
  {
   "cell_type": "markdown",
   "metadata": {},
   "source": [
    "## Train a regression model\n",
    "\n",
    "A simple RandomForestRegressor to predict house prices in Boston."
   ]
  },
  {
   "cell_type": "code",
   "execution_count": 7,
   "metadata": {},
   "outputs": [
    {
     "data": {
      "text/plain": [
       "array([25.389, 21.637, 34.602, 33.719, 35.559, 27.44 , 22.148, 24.942,\n",
       "       17.208])"
      ]
     },
     "execution_count": 7,
     "metadata": {},
     "output_type": "execute_result"
    }
   ],
   "source": [
    "import pandas as pd\n",
    "from sklearn.ensemble import RandomForestRegressor\n",
    "import pickle\n",
    "import datetime\n",
    "\n",
    "# Read the train and test data\n",
    "TRAIN_DATA_REG = \"./data/boston_housing_train.csv\"  # 14 features\n",
    "TEST_DATA_REG = \"./data/boston_housing_test.csv\"  # 13 features - target is removed\n",
    "\n",
    "reg_X_train = pd.read_csv(TRAIN_DATA_REG)\n",
    "reg_Y_train = reg_X_train.pop('MEDV')\n",
    "\n",
    "reg_X_test = pd.read_csv(TEST_DATA_REG)\n",
    "\n",
    "# Fit the model\n",
    "rf = RandomForestRegressor()\n",
    "rf.fit(reg_X_train, reg_Y_train)\n",
    "\n",
    "# Pickle the file and write it to the file system\n",
    "with open(\"../drum_overview/custom_model_reg/reg_rf_model.pkl\", 'wb') as pkl:\n",
    "    pickle.dump(rf, pkl)\n",
    "    \n",
    "# Call predict to confirm it works\n",
    "rf.predict(reg_X_test)"
   ]
  },
  {
   "cell_type": "markdown",
   "metadata": {},
   "source": [
    "## Testing the Model\n",
    "\n",
    "Input the prediction dataset that includes all features except the target feature."
   ]
  },
  {
   "cell_type": "code",
   "execution_count": 10,
   "metadata": {},
   "outputs": [
    {
     "name": "stderr",
     "output_type": "stream",
     "text": [
      "sh: line 1: drum: command not found\n"
     ]
    },
    {
     "ename": "CalledProcessError",
     "evalue": "Command 'b'drum perf-test --code-dir ./custom_model_reg --input ./data/boston_housing_test.csv  --target-type regression\\n'' returned non-zero exit status 127.",
     "output_type": "error",
     "traceback": [
      "\u001b[0;31m---------------------------------------------------------------------------\u001b[0m",
      "\u001b[0;31mCalledProcessError\u001b[0m                        Traceback (most recent call last)",
      "\u001b[0;32m/var/folders/nz/89yd1h313yn8t9lr6lw41zf80000gq/T/ipykernel_22834/3896163014.py\u001b[0m in \u001b[0;36m<module>\u001b[0;34m\u001b[0m\n\u001b[0;32m----> 1\u001b[0;31m \u001b[0mget_ipython\u001b[0m\u001b[0;34m(\u001b[0m\u001b[0;34m)\u001b[0m\u001b[0;34m.\u001b[0m\u001b[0mrun_cell_magic\u001b[0m\u001b[0;34m(\u001b[0m\u001b[0;34m'sh'\u001b[0m\u001b[0;34m,\u001b[0m \u001b[0;34m''\u001b[0m\u001b[0;34m,\u001b[0m \u001b[0;34m'drum perf-test --code-dir ./custom_model_reg --input ./data/boston_housing_test.csv  --target-type regression\\n'\u001b[0m\u001b[0;34m)\u001b[0m\u001b[0;34m\u001b[0m\u001b[0m\n\u001b[0m",
      "\u001b[0;32m~/opt/anaconda3/envs/drum/lib/python3.7/site-packages/IPython/core/interactiveshell.py\u001b[0m in \u001b[0;36mrun_cell_magic\u001b[0;34m(self, magic_name, line, cell)\u001b[0m\n\u001b[1;32m   2401\u001b[0m             \u001b[0;32mwith\u001b[0m \u001b[0mself\u001b[0m\u001b[0;34m.\u001b[0m\u001b[0mbuiltin_trap\u001b[0m\u001b[0;34m:\u001b[0m\u001b[0;34m\u001b[0m\u001b[0m\n\u001b[1;32m   2402\u001b[0m                 \u001b[0margs\u001b[0m \u001b[0;34m=\u001b[0m \u001b[0;34m(\u001b[0m\u001b[0mmagic_arg_s\u001b[0m\u001b[0;34m,\u001b[0m \u001b[0mcell\u001b[0m\u001b[0;34m)\u001b[0m\u001b[0;34m\u001b[0m\u001b[0m\n\u001b[0;32m-> 2403\u001b[0;31m                 \u001b[0mresult\u001b[0m \u001b[0;34m=\u001b[0m \u001b[0mfn\u001b[0m\u001b[0;34m(\u001b[0m\u001b[0;34m*\u001b[0m\u001b[0margs\u001b[0m\u001b[0;34m,\u001b[0m \u001b[0;34m**\u001b[0m\u001b[0mkwargs\u001b[0m\u001b[0;34m)\u001b[0m\u001b[0;34m\u001b[0m\u001b[0m\n\u001b[0m\u001b[1;32m   2404\u001b[0m             \u001b[0;32mreturn\u001b[0m \u001b[0mresult\u001b[0m\u001b[0;34m\u001b[0m\u001b[0m\n\u001b[1;32m   2405\u001b[0m \u001b[0;34m\u001b[0m\u001b[0m\n",
      "\u001b[0;32m~/opt/anaconda3/envs/drum/lib/python3.7/site-packages/IPython/core/magics/script.py\u001b[0m in \u001b[0;36mnamed_script_magic\u001b[0;34m(line, cell)\u001b[0m\n\u001b[1;32m    140\u001b[0m             \u001b[0;32melse\u001b[0m\u001b[0;34m:\u001b[0m\u001b[0;34m\u001b[0m\u001b[0m\n\u001b[1;32m    141\u001b[0m                 \u001b[0mline\u001b[0m \u001b[0;34m=\u001b[0m \u001b[0mscript\u001b[0m\u001b[0;34m\u001b[0m\u001b[0m\n\u001b[0;32m--> 142\u001b[0;31m             \u001b[0;32mreturn\u001b[0m \u001b[0mself\u001b[0m\u001b[0;34m.\u001b[0m\u001b[0mshebang\u001b[0m\u001b[0;34m(\u001b[0m\u001b[0mline\u001b[0m\u001b[0;34m,\u001b[0m \u001b[0mcell\u001b[0m\u001b[0;34m)\u001b[0m\u001b[0;34m\u001b[0m\u001b[0m\n\u001b[0m\u001b[1;32m    143\u001b[0m \u001b[0;34m\u001b[0m\u001b[0m\n\u001b[1;32m    144\u001b[0m         \u001b[0;31m# write a basic docstring:\u001b[0m\u001b[0;34m\u001b[0m\u001b[0;34m\u001b[0m\u001b[0m\n",
      "\u001b[0;32m~/opt/anaconda3/envs/drum/lib/python3.7/site-packages/decorator.py\u001b[0m in \u001b[0;36mfun\u001b[0;34m(*args, **kw)\u001b[0m\n\u001b[1;32m    230\u001b[0m             \u001b[0;32mif\u001b[0m \u001b[0;32mnot\u001b[0m \u001b[0mkwsyntax\u001b[0m\u001b[0;34m:\u001b[0m\u001b[0;34m\u001b[0m\u001b[0m\n\u001b[1;32m    231\u001b[0m                 \u001b[0margs\u001b[0m\u001b[0;34m,\u001b[0m \u001b[0mkw\u001b[0m \u001b[0;34m=\u001b[0m \u001b[0mfix\u001b[0m\u001b[0;34m(\u001b[0m\u001b[0margs\u001b[0m\u001b[0;34m,\u001b[0m \u001b[0mkw\u001b[0m\u001b[0;34m,\u001b[0m \u001b[0msig\u001b[0m\u001b[0;34m)\u001b[0m\u001b[0;34m\u001b[0m\u001b[0m\n\u001b[0;32m--> 232\u001b[0;31m             \u001b[0;32mreturn\u001b[0m \u001b[0mcaller\u001b[0m\u001b[0;34m(\u001b[0m\u001b[0mfunc\u001b[0m\u001b[0;34m,\u001b[0m \u001b[0;34m*\u001b[0m\u001b[0;34m(\u001b[0m\u001b[0mextras\u001b[0m \u001b[0;34m+\u001b[0m \u001b[0margs\u001b[0m\u001b[0;34m)\u001b[0m\u001b[0;34m,\u001b[0m \u001b[0;34m**\u001b[0m\u001b[0mkw\u001b[0m\u001b[0;34m)\u001b[0m\u001b[0;34m\u001b[0m\u001b[0m\n\u001b[0m\u001b[1;32m    233\u001b[0m     \u001b[0mfun\u001b[0m\u001b[0;34m.\u001b[0m\u001b[0m__name__\u001b[0m \u001b[0;34m=\u001b[0m \u001b[0mfunc\u001b[0m\u001b[0;34m.\u001b[0m\u001b[0m__name__\u001b[0m\u001b[0;34m\u001b[0m\u001b[0m\n\u001b[1;32m    234\u001b[0m     \u001b[0mfun\u001b[0m\u001b[0;34m.\u001b[0m\u001b[0m__doc__\u001b[0m \u001b[0;34m=\u001b[0m \u001b[0mfunc\u001b[0m\u001b[0;34m.\u001b[0m\u001b[0m__doc__\u001b[0m\u001b[0;34m\u001b[0m\u001b[0m\n",
      "\u001b[0;32m~/opt/anaconda3/envs/drum/lib/python3.7/site-packages/IPython/core/magic.py\u001b[0m in \u001b[0;36m<lambda>\u001b[0;34m(f, *a, **k)\u001b[0m\n\u001b[1;32m    185\u001b[0m     \u001b[0;31m# but it's overkill for just that one bit of state.\u001b[0m\u001b[0;34m\u001b[0m\u001b[0;34m\u001b[0m\u001b[0m\n\u001b[1;32m    186\u001b[0m     \u001b[0;32mdef\u001b[0m \u001b[0mmagic_deco\u001b[0m\u001b[0;34m(\u001b[0m\u001b[0marg\u001b[0m\u001b[0;34m)\u001b[0m\u001b[0;34m:\u001b[0m\u001b[0;34m\u001b[0m\u001b[0m\n\u001b[0;32m--> 187\u001b[0;31m         \u001b[0mcall\u001b[0m \u001b[0;34m=\u001b[0m \u001b[0;32mlambda\u001b[0m \u001b[0mf\u001b[0m\u001b[0;34m,\u001b[0m \u001b[0;34m*\u001b[0m\u001b[0ma\u001b[0m\u001b[0;34m,\u001b[0m \u001b[0;34m**\u001b[0m\u001b[0mk\u001b[0m\u001b[0;34m:\u001b[0m \u001b[0mf\u001b[0m\u001b[0;34m(\u001b[0m\u001b[0;34m*\u001b[0m\u001b[0ma\u001b[0m\u001b[0;34m,\u001b[0m \u001b[0;34m**\u001b[0m\u001b[0mk\u001b[0m\u001b[0;34m)\u001b[0m\u001b[0;34m\u001b[0m\u001b[0m\n\u001b[0m\u001b[1;32m    188\u001b[0m \u001b[0;34m\u001b[0m\u001b[0m\n\u001b[1;32m    189\u001b[0m         \u001b[0;32mif\u001b[0m \u001b[0mcallable\u001b[0m\u001b[0;34m(\u001b[0m\u001b[0marg\u001b[0m\u001b[0;34m)\u001b[0m\u001b[0;34m:\u001b[0m\u001b[0;34m\u001b[0m\u001b[0m\n",
      "\u001b[0;32m~/opt/anaconda3/envs/drum/lib/python3.7/site-packages/IPython/core/magics/script.py\u001b[0m in \u001b[0;36mshebang\u001b[0;34m(self, line, cell)\u001b[0m\n\u001b[1;32m    243\u001b[0m             \u001b[0msys\u001b[0m\u001b[0;34m.\u001b[0m\u001b[0mstderr\u001b[0m\u001b[0;34m.\u001b[0m\u001b[0mflush\u001b[0m\u001b[0;34m(\u001b[0m\u001b[0;34m)\u001b[0m\u001b[0;34m\u001b[0m\u001b[0m\n\u001b[1;32m    244\u001b[0m         \u001b[0;32mif\u001b[0m \u001b[0margs\u001b[0m\u001b[0;34m.\u001b[0m\u001b[0mraise_error\u001b[0m \u001b[0;32mand\u001b[0m \u001b[0mp\u001b[0m\u001b[0;34m.\u001b[0m\u001b[0mreturncode\u001b[0m\u001b[0;34m!=\u001b[0m\u001b[0;36m0\u001b[0m\u001b[0;34m:\u001b[0m\u001b[0;34m\u001b[0m\u001b[0m\n\u001b[0;32m--> 245\u001b[0;31m             \u001b[0;32mraise\u001b[0m \u001b[0mCalledProcessError\u001b[0m\u001b[0;34m(\u001b[0m\u001b[0mp\u001b[0m\u001b[0;34m.\u001b[0m\u001b[0mreturncode\u001b[0m\u001b[0;34m,\u001b[0m \u001b[0mcell\u001b[0m\u001b[0;34m,\u001b[0m \u001b[0moutput\u001b[0m\u001b[0;34m=\u001b[0m\u001b[0mout\u001b[0m\u001b[0;34m,\u001b[0m \u001b[0mstderr\u001b[0m\u001b[0;34m=\u001b[0m\u001b[0merr\u001b[0m\u001b[0;34m)\u001b[0m\u001b[0;34m\u001b[0m\u001b[0m\n\u001b[0m\u001b[1;32m    246\u001b[0m \u001b[0;34m\u001b[0m\u001b[0m\n\u001b[1;32m    247\u001b[0m     \u001b[0;32mdef\u001b[0m \u001b[0m_run_script\u001b[0m\u001b[0;34m(\u001b[0m\u001b[0mself\u001b[0m\u001b[0;34m,\u001b[0m \u001b[0mp\u001b[0m\u001b[0;34m,\u001b[0m \u001b[0mcell\u001b[0m\u001b[0;34m,\u001b[0m \u001b[0mto_close\u001b[0m\u001b[0;34m)\u001b[0m\u001b[0;34m:\u001b[0m\u001b[0;34m\u001b[0m\u001b[0m\n",
      "\u001b[0;31mCalledProcessError\u001b[0m: Command 'b'drum perf-test --code-dir ./custom_model_reg --input ./data/boston_housing_test.csv  --target-type regression\\n'' returned non-zero exit status 127."
     ]
    }
   ],
   "source": [
    "%%sh \n",
    "drum perf-test --code-dir ./custom_model_reg --input ./data/boston_housing_test.csv  --target-type regression"
   ]
  },
  {
   "cell_type": "markdown",
   "metadata": {},
   "source": [
    "## Validating the Model"
   ]
  },
  {
   "cell_type": "code",
   "execution_count": 6,
   "metadata": {},
   "outputs": [],
   "source": [
    "%%sh \n",
    "drum validation --code-dir /content/mlops-examples/drum_overview/custom_model_reg \\\n",
    "--input /content/mlops-examples/drum_overview/data/boston_housing_test.csv \\\n",
    "--target-type regression > drum_validation.log"
   ]
  },
  {
   "cell_type": "code",
   "execution_count": 7,
   "metadata": {},
   "outputs": [
    {
     "name": "stdout",
     "output_type": "stream",
     "text": [
      "\n",
      "\n",
      "Validation checks results\n",
      "      Test case          Status   Details\n",
      "=========================================\n",
      "Basic batch prediction   PASSED          \n",
      "Null value imputation    PASSED          \n"
     ]
    }
   ],
   "source": [
    "%%sh\n",
    "tail drum_validation.log"
   ]
  },
  {
   "cell_type": "markdown",
   "metadata": {},
   "source": [
    "# Batch Scoring with DRUM\n",
    "<a id=\"setup_complete\"></a>\n",
    "\n",
    "At this point our model has been written to disk and we want to start making predictions with it.  To do this, we'll leverage DRUM and it's ability to natively handle our scikit learn model, all we need to do is tell DRUM where it resides as well as the data we wish to score.  \n",
    "\n",
    "There are a lot of frameworks which DRUM supports nateively, but for those which DRUM doesn't support of these shelf, we'll just need to create some custom hooks so DRUM.  In this example, we'll highlight some very simple custom hooks, and will provide links to more complex examples.  "
   ]
  },
  {
   "cell_type": "code",
   "execution_count": 10,
   "metadata": {},
   "outputs": [],
   "source": [
    "%%sh \n",
    "drum score --code-dir /content/mlops-examples/drum_overview/custom_model_reg \\\n",
    "--input /content/mlops-examples/drum_overview/data/boston_housing_test.csv \\\n",
    "--output /content/mlops-examples/drum_overview/data/predictions.csv --target-type regression"
   ]
  },
  {
   "cell_type": "code",
   "execution_count": 11,
   "metadata": {},
   "outputs": [
    {
     "data": {
      "text/html": [
       "<div>\n",
       "<style scoped>\n",
       "    .dataframe tbody tr th:only-of-type {\n",
       "        vertical-align: middle;\n",
       "    }\n",
       "\n",
       "    .dataframe tbody tr th {\n",
       "        vertical-align: top;\n",
       "    }\n",
       "\n",
       "    .dataframe thead th {\n",
       "        text-align: right;\n",
       "    }\n",
       "</style>\n",
       "<table border=\"1\" class=\"dataframe\">\n",
       "  <thead>\n",
       "    <tr style=\"text-align: right;\">\n",
       "      <th></th>\n",
       "      <th>Predictions</th>\n",
       "    </tr>\n",
       "  </thead>\n",
       "  <tbody>\n",
       "    <tr>\n",
       "      <th>0</th>\n",
       "      <td>25.941</td>\n",
       "    </tr>\n",
       "    <tr>\n",
       "      <th>1</th>\n",
       "      <td>22.129</td>\n",
       "    </tr>\n",
       "    <tr>\n",
       "      <th>2</th>\n",
       "      <td>34.559</td>\n",
       "    </tr>\n",
       "    <tr>\n",
       "      <th>3</th>\n",
       "      <td>33.845</td>\n",
       "    </tr>\n",
       "    <tr>\n",
       "      <th>4</th>\n",
       "      <td>35.273</td>\n",
       "    </tr>\n",
       "  </tbody>\n",
       "</table>\n",
       "</div>"
      ],
      "text/plain": [
       "   Predictions\n",
       "0       25.941\n",
       "1       22.129\n",
       "2       34.559\n",
       "3       33.845\n",
       "4       35.273"
      ]
     },
     "execution_count": 11,
     "metadata": {},
     "output_type": "execute_result"
    }
   ],
   "source": [
    "pd.read_csv(\"/content/mlops-examples/drum_overview/data/predictions.csv\").head()"
   ]
  },
  {
   "cell_type": "markdown",
   "metadata": {},
   "source": [
    "# Start the inference server locally\n",
    "\n",
    "Batch scoring can be very useful, but the utility DRUM offers does not stop there.  We can also leverage DRUM to serve our model as a RESTful API endpoint.  The only thing that changes is the way we will structure the command - using the `server` mode instead of `score` model.  We'll also need to provide an address which is NOT in use.  \n",
    "\n",
    "When starting the server, we'll use `subprocess.Popen` so we may interact with the server in this notebook"
   ]
  },
  {
   "cell_type": "code",
   "execution_count": 13,
   "metadata": {},
   "outputs": [],
   "source": [
    "import subprocess\n",
    "import requests\n",
    "import pandas as pd\n",
    "from io import BytesIO\n",
    "import yaml\n",
    "import time\n",
    "import os\n",
    "import datarobot as dr\n",
    "from pprint import pprint"
   ]
  },
  {
   "cell_type": "code",
   "execution_count": 15,
   "metadata": {},
   "outputs": [],
   "source": [
    "run_inference_server = [\"drum\",\n",
    "              \"server\",\n",
    "              \"--code-dir\",\"/content/mlops-examples/drum_overview/custom_model_reg\", \n",
    "              \"--address\", \"0.0.0.0:6789\", \n",
    "              \"--show-perf\",\n",
    "              \"--target-type\", \"regression\",\n",
    "              \"--logging-level\", \"info\",\n",
    "              \"--show-stacktrace\",\n",
    "              \"--verbose\"\n",
    "              ]"
   ]
  },
  {
   "cell_type": "code",
   "execution_count": 16,
   "metadata": {},
   "outputs": [],
   "source": [
    "inference_server = subprocess.Popen(run_inference_server, stdout=subprocess.PIPE)"
   ]
  },
  {
   "cell_type": "code",
   "execution_count": 1,
   "metadata": {},
   "outputs": [],
   "source": [
    "## confirm the server is running\n",
    "time.sleep(10) ## snoozing before pinging the server to give it time to actually start\n",
    "print('check status')\n",
    "requests.request(\"GET\", \"http://0.0.0.0:6789\").content"
   ]
  },
  {
   "cell_type": "markdown",
   "metadata": {},
   "source": [
    "## Send data to server for inference\n",
    "\n",
    "The request must provide our dataset as form data.  In order to do so, we'll create a simple python function to pass the data over appropriately.  We'll leverage the same function in our simple flask app a little later.  "
   ]
  },
  {
   "cell_type": "code",
   "execution_count": null,
   "metadata": {},
   "outputs": [],
   "source": [
    "def score(data, port = \"6789\"):\n",
    "    b_buf = BytesIO()\n",
    "    b_buf.write(data.to_csv(index=False).encode(\"utf-8\"))\n",
    "    b_buf.seek(0)\n",
    "  \n",
    "    url = \"http://localhost:{}/predict/\".format(port)\n",
    "    files = [\n",
    "        ('X', b_buf)\n",
    "    ]\n",
    "    response = requests.request(\"POST\", url, files = files, timeout=None, verify=False)\n",
    "    return response"
   ]
  },
  {
   "cell_type": "code",
   "execution_count": null,
   "metadata": {},
   "outputs": [],
   "source": [
    "# %%timeit\n",
    "scoring_data = pd.read_csv(\"/content/mlops-examples/drum_overview/data/boston_housing_test.csv\")\n",
    "predictions = score(scoring_data).json() ## score entire dataset but only show first 5 records\n",
    "pprint(predictions)"
   ]
  },
  {
   "cell_type": "code",
   "execution_count": null,
   "metadata": {},
   "outputs": [],
   "source": [
    "requests.request(\"GET\", \"http://0.0.0.0:6789/\").content"
   ]
  },
  {
   "cell_type": "code",
   "execution_count": null,
   "metadata": {},
   "outputs": [],
   "source": [
    "inference_server.terminate()\n",
    "inference_server.stdout.readlines()"
   ]
  },
  {
   "cell_type": "code",
   "execution_count": null,
   "metadata": {},
   "outputs": [],
   "source": [
    "#Stop the flask server\n",
    "%%sh\n",
    "fuser -n tcp -k 6789"
   ]
  },
  {
   "cell_type": "markdown",
   "metadata": {},
   "source": [
    "## Value Prop\n",
    "\n",
    "One may ask, what is the benefit to be had here?  Well, first of, there is not need for me to write an api to get the model up and running.  Second, DRUM allows me to abstract the framework away (provided I'm using one that is natively supported, or I can write enough python so that DRUM understands how to hook up to the model.  \n",
    "\n",
    "For example, I could hot swap models as I see fit (see exampels in `./src/other_models`)\n",
    "\n",
    "While we will run through several other frameworks with in `score` you can bet they are supported in `server` mode as well!"
   ]
  },
  {
   "cell_type": "markdown",
   "metadata": {},
   "source": [
    "#### H2o Mojo"
   ]
  },
  {
   "cell_type": "code",
   "execution_count": 20,
   "metadata": {},
   "outputs": [
    {
     "name": "stdout",
     "output_type": "stream",
     "text": [
      "SLF4J: Failed to load class \"org.slf4j.impl.StaticLoggerBinder\".\n",
      "SLF4J: Defaulting to no-operation (NOP) logger implementation\n",
      "SLF4J: See http://www.slf4j.org/codes.html#StaticLoggerBinder for further details.\n",
      "   Predictions\n",
      "0    24.504000\n",
      "1    22.492000\n",
      "2    34.554001\n",
      "3    34.420001\n",
      "4    35.289001\n",
      "5    28.394001\n",
      "6    21.936000\n",
      "7    23.451000\n",
      "8    17.065000\n"
     ]
    }
   ],
   "source": [
    "!drum score --code-dir /content/mlops-examples/drum_overview/other_models/h2o_mojo/regression --input /content/mlops-examples/MLOps_DRUM/data/boston_housing_test.csv --target-type regression"
   ]
  },
  {
   "cell_type": "markdown",
   "metadata": {},
   "source": [
    "#### Keras"
   ]
  },
  {
   "cell_type": "code",
   "execution_count": 21,
   "metadata": {},
   "outputs": [
    {
     "name": "stdout",
     "output_type": "stream",
     "text": [
      "2021-05-27 16:49:14,280 ERROR drum.PythonModelAdapter:  Could not load hooks: No module named 'tensorflow'\n",
      "\n",
      "\n",
      "\n",
      "Running environment language: Python.\n",
      "Failed loading hooks from [/Users/thodoris.petropoulos/github/mlops-examples-wip/MLOps DRUM/other_models/python3_keras_joblib/custom.py] : No module named 'tensorflow'\n"
     ]
    }
   ],
   "source": [
    "!drum score --code-dir /content/mlops-examples/drum_overview/other_models/python3_keras_joblib --input /content/mlops-examples/MLOps_DRUM/data/boston_housing_test.csv --target-type regression\n",
    "\n"
   ]
  },
  {
   "cell_type": "markdown",
   "metadata": {},
   "source": [
    "#### XGBoost"
   ]
  },
  {
   "cell_type": "code",
   "execution_count": null,
   "metadata": {},
   "outputs": [],
   "source": [
    "!drum score --code-dir /content/mlops-examples/drum_overview/other_models/python3_xgboost --input /content/mlops-examples/MLOps_DRUM/data/boston_housing_test.csv --target-type regression\n"
   ]
  },
  {
   "cell_type": "markdown",
   "metadata": {},
   "source": [
    "#### DataRobot Codegen"
   ]
  },
  {
   "cell_type": "code",
   "execution_count": null,
   "metadata": {},
   "outputs": [],
   "source": [
    "!drum score --code-dir /content/mlops-examples/drum_overview/other_models/dr_codegen --input /content/mlops-examples/MLOps_DRUM/data/boston_housing_test.csv --target-type regression\n"
   ]
  }
 ],
 "metadata": {
  "kernelspec": {
   "display_name": "Python 3 (ipykernel)",
   "language": "python",
   "name": "python3"
  },
  "language_info": {
   "codemirror_mode": {
    "name": "ipython",
    "version": 3
   },
   "file_extension": ".py",
   "mimetype": "text/x-python",
   "name": "python",
   "nbconvert_exporter": "python",
   "pygments_lexer": "ipython3",
   "version": "3.7.0"
  }
 },
 "nbformat": 4,
 "nbformat_minor": 4
}
