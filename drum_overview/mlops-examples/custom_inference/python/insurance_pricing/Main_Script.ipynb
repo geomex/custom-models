{
 "cells": [
  {
   "cell_type": "markdown",
   "metadata": {
    "colab_type": "text",
    "id": "view-in-github"
   },
   "source": [
    "<a href=\"https://colab.research.google.com/github/datarobot-community/mlops-examples/blob/master/Custom%20Model%20Examples/Insurance%20Pricing/Main_Script.ipynb\" target=\"_parent\"><img src=\"https://colab.research.google.com/assets/colab-badge.svg\" alt=\"Open In Colab\"/></a>"
   ]
  },
  {
   "cell_type": "markdown",
   "metadata": {
    "id": "-2tZB_o-pDmP"
   },
   "source": [
    "# DRUM Wild Mode\n",
    "\n",
    "DRUM Wild Mode, formally known as Unstructured Mode, allows user to to pass and return almost anything.  No validation of data occurs and it is your responsibility to verify correctness.\n",
    "\n",
    "In this example, we will host an LGMB Regressor and for every request, we will return predictions and shap values for said predictions.  \n"
   ]
  },
  {
   "cell_type": "code",
   "execution_count": null,
   "metadata": {},
   "outputs": [],
   "source": [
    "!git clone https://github.com/datarobot-community/mlops-examples.git"
   ]
  },
  {
   "cell_type": "code",
   "execution_count": 3,
   "metadata": {
    "colab": {
     "base_uri": "https://localhost:8080/"
    },
    "id": "uWNO8nJ3oniS",
    "outputId": "51dc6bea-3616-419b-ef6a-8d37fe13726d"
   },
   "outputs": [],
   "source": [
    "!pip install -r /content/mlops-examples/custom_inference/python/insurance_pricing/requirements.txt -q"
   ]
  },
  {
   "cell_type": "code",
   "execution_count": null,
   "metadata": {
    "colab": {
     "base_uri": "https://localhost:8080/"
    },
    "id": "GJOKDQcHo1i-",
    "outputId": "f78985a1-2c04-41f1-92d0-218be5e0e4ba"
   },
   "outputs": [
    {
     "name": "stdout",
     "output_type": "stream",
     "text": [
      "Collecting datarobot-drum\n",
      "\u001b[?25l  Downloading https://files.pythonhosted.org/packages/1f/78/6033966c08e231d7447d210d9cf3ce523b4034d1549bc6d523070738fa2c/datarobot_drum-1.4.2-py3-none-any.whl (8.7MB)\n",
      "\u001b[K     |████████████████████████████████| 8.7MB 951kB/s \n",
      "\u001b[?25hCollecting strictyaml==1.0.6\n",
      "\u001b[?25l  Downloading https://files.pythonhosted.org/packages/40/97/e8e62cc00aafc52aeffc7cbe3f90d15f8edd4bfe539346fe7eb505a7e1b8/strictyaml-1.0.6.tar.gz (47kB)\n",
      "\u001b[K     |████████████████████████████████| 51kB 6.5MB/s \n",
      "\u001b[?25hCollecting progress\n",
      "  Downloading https://files.pythonhosted.org/packages/38/ef/2e887b3d2b248916fc2121889ce68af8a16aaddbe82f9ae6533c24ff0d2b/progress-1.5.tar.gz\n",
      "Requirement already satisfied: requests in /usr/local/lib/python3.6/dist-packages (from datarobot-drum) (2.23.0)\n",
      "Requirement already satisfied: flask in /usr/local/lib/python3.6/dist-packages (from datarobot-drum) (1.1.2)\n",
      "Requirement already satisfied: pandas in /usr/local/lib/python3.6/dist-packages (from datarobot-drum) (1.1.0)\n",
      "Collecting mlpiper~=2.4.0\n",
      "\u001b[?25l  Downloading https://files.pythonhosted.org/packages/41/ee/0c1d6f05dc51da964a33b5a4930731e61f3d1a4297ec15995aa12a8cbfab/mlpiper-2.4.1-py2.py3-none-any.whl (781kB)\n",
      "\u001b[K     |████████████████████████████████| 788kB 39.3MB/s \n",
      "\u001b[?25hCollecting texttable\n",
      "  Downloading https://files.pythonhosted.org/packages/06/f5/46201c428aebe0eecfa83df66bf3e6caa29659dbac5a56ddfd83cae0d4a4/texttable-1.6.3-py2.py3-none-any.whl\n",
      "Collecting datarobot==2.21.3\n",
      "\u001b[?25l  Downloading https://files.pythonhosted.org/packages/72/52/af0a431d93aefc377a5c9ff467e064068bb85a5fc8edfd0de0c2cb1528e0/datarobot-2.21.3-py3-none-any.whl (266kB)\n",
      "\u001b[K     |████████████████████████████████| 276kB 30.0MB/s \n",
      "\u001b[?25hCollecting argparse-formatter\n",
      "  Downloading https://files.pythonhosted.org/packages/25/68/56cb479aea54eff567e32707a27f455ace51d336b8dbc965727c85c00ae0/argparse_formatter-1.2.tar.gz\n",
      "Collecting argcomplete==1.11.1\n",
      "  Downloading https://files.pythonhosted.org/packages/82/7d/455e149c28c320044cb763c23af375bd77d52baca041f611f5c2b4865cf4/argcomplete-1.11.1-py2.py3-none-any.whl\n",
      "Requirement already satisfied: scipy<2,>=1.1 in /usr/local/lib/python3.6/dist-packages (from datarobot-drum) (1.5.1)\n",
      "Collecting py4j~=0.10.9.0\n",
      "\u001b[?25l  Downloading https://files.pythonhosted.org/packages/30/42/25ad191f311fcdb38b750d49de167abd535e37a144e730a80d7c439d1751/py4j-0.10.9.1-py2.py3-none-any.whl (198kB)\n",
      "\u001b[K     |████████████████████████████████| 204kB 43.8MB/s \n",
      "\u001b[?25hRequirement already satisfied: pyarrow==0.14.1 in /usr/local/lib/python3.6/dist-packages (from datarobot-drum) (0.14.1)\n",
      "Collecting docker>=4.2.2<5.0.0\n",
      "\u001b[?25l  Downloading https://files.pythonhosted.org/packages/9e/8c/8d42dbd83679483db207535f4fb02dc84325fa78b290f057694b057fcd21/docker-4.3.1-py2.py3-none-any.whl (145kB)\n",
      "\u001b[K     |████████████████████████████████| 153kB 40.3MB/s \n",
      "\u001b[?25hRequirement already satisfied: numpy in /usr/local/lib/python3.6/dist-packages (from datarobot-drum) (1.19.0)\n",
      "Requirement already satisfied: jinja2 in /usr/local/lib/python3.6/dist-packages (from datarobot-drum) (2.11.2)\n",
      "Collecting memory-profiler<1.0.0\n",
      "  Downloading https://files.pythonhosted.org/packages/8f/fd/d92b3295657f8837e0177e7b48b32d6651436f0293af42b76d134c3bb489/memory_profiler-0.58.0.tar.gz\n",
      "Collecting ruamel.yaml>=0.14.2\n",
      "\u001b[?25l  Downloading https://files.pythonhosted.org/packages/7e/39/186f14f3836ac5d2a6a042c8de69988770e8b9abb537610edc429e4914aa/ruamel.yaml-0.16.12-py2.py3-none-any.whl (111kB)\n",
      "\u001b[K     |████████████████████████████████| 112kB 44.5MB/s \n",
      "\u001b[?25hRequirement already satisfied: python-dateutil>=2.6.0 in /usr/local/lib/python3.6/dist-packages (from strictyaml==1.0.6->datarobot-drum) (2.8.1)\n",
      "Requirement already satisfied: idna<3,>=2.5 in /usr/local/lib/python3.6/dist-packages (from requests->datarobot-drum) (2.10)\n",
      "Requirement already satisfied: certifi>=2017.4.17 in /usr/local/lib/python3.6/dist-packages (from requests->datarobot-drum) (2020.6.20)\n",
      "Requirement already satisfied: urllib3!=1.25.0,!=1.25.1,<1.26,>=1.21.1 in /usr/local/lib/python3.6/dist-packages (from requests->datarobot-drum) (1.24.3)\n",
      "Requirement already satisfied: chardet<4,>=3.0.2 in /usr/local/lib/python3.6/dist-packages (from requests->datarobot-drum) (3.0.4)\n",
      "Requirement already satisfied: click>=5.1 in /usr/local/lib/python3.6/dist-packages (from flask->datarobot-drum) (7.1.2)\n",
      "Requirement already satisfied: Werkzeug>=0.15 in /usr/local/lib/python3.6/dist-packages (from flask->datarobot-drum) (1.0.1)\n",
      "Requirement already satisfied: itsdangerous>=0.24 in /usr/local/lib/python3.6/dist-packages (from flask->datarobot-drum) (1.1.0)\n",
      "Requirement already satisfied: pytz>=2017.2 in /usr/local/lib/python3.6/dist-packages (from pandas->datarobot-drum) (2018.9)\n",
      "Requirement already satisfied: future in /usr/local/lib/python3.6/dist-packages (from mlpiper~=2.4.0->datarobot-drum) (0.16.0)\n",
      "Collecting uwsgi; sys_platform != \"win32\"\n",
      "\u001b[?25l  Downloading https://files.pythonhosted.org/packages/c7/75/45234f7b441c59b1eefd31ba3d1041a7e3c89602af24488e2a22e11e7259/uWSGI-2.0.19.1.tar.gz (803kB)\n",
      "\u001b[K     |████████████████████████████████| 808kB 46.6MB/s \n",
      "\u001b[?25hRequirement already satisfied: termcolor in /usr/local/lib/python3.6/dist-packages (from mlpiper~=2.4.0->datarobot-drum) (1.1.0)\n",
      "Collecting flask-cors\n",
      "  Downloading https://files.pythonhosted.org/packages/69/7f/d0aeaaafb5c3c76c8d2141dbe2d4f6dca5d6c31872d4e5349768c1958abc/Flask_Cors-3.0.9-py2.py3-none-any.whl\n",
      "Requirement already satisfied: psutil in /usr/local/lib/python3.6/dist-packages (from mlpiper~=2.4.0->datarobot-drum) (5.4.8)\n",
      "Requirement already satisfied: contextlib2>=0.5.5 in /usr/local/lib/python3.6/dist-packages (from datarobot==2.21.3->datarobot-drum) (0.5.5)\n",
      "Collecting requests-toolbelt>=0.6\n",
      "\u001b[?25l  Downloading https://files.pythonhosted.org/packages/60/ef/7681134338fc097acef8d9b2f8abe0458e4d87559c689a8c306d0957ece5/requests_toolbelt-0.9.1-py2.py3-none-any.whl (54kB)\n",
      "\u001b[K     |████████████████████████████████| 61kB 7.7MB/s \n",
      "\u001b[?25hCollecting trafaret!=1.1.0,<2.0,>=0.7\n",
      "  Downloading https://files.pythonhosted.org/packages/02/59/b502446f3985a9351ea4bfca4e90471668206d3a957e5e2ea256fc3d9d35/trafaret-1.2.0-py3-none-any.whl\n",
      "Requirement already satisfied: pyyaml>=3.11 in /usr/local/lib/python3.6/dist-packages (from datarobot==2.21.3->datarobot-drum) (5.1.1)\n",
      "Collecting attrs<20.0,>=19.1.0\n",
      "  Downloading https://files.pythonhosted.org/packages/a2/db/4313ab3be961f7a763066401fb77f7748373b6094076ae2bda2806988af6/attrs-19.3.0-py2.py3-none-any.whl\n",
      "Collecting importlib-metadata<2,>=0.23; python_version == \"3.6\"\n",
      "  Downloading https://files.pythonhosted.org/packages/8e/58/cdea07eb51fc2b906db0968a94700866fc46249bdc75cac23f9d13168929/importlib_metadata-1.7.0-py2.py3-none-any.whl\n",
      "Requirement already satisfied: six>=1.0.0 in /usr/local/lib/python3.6/dist-packages (from pyarrow==0.14.1->datarobot-drum) (1.15.0)\n",
      "Collecting websocket-client>=0.32.0\n",
      "\u001b[?25l  Downloading https://files.pythonhosted.org/packages/4c/5f/f61b420143ed1c8dc69f9eaec5ff1ac36109d52c80de49d66e0c36c3dfdf/websocket_client-0.57.0-py2.py3-none-any.whl (200kB)\n",
      "\u001b[K     |████████████████████████████████| 204kB 39.9MB/s \n",
      "\u001b[?25hRequirement already satisfied: MarkupSafe>=0.23 in /usr/local/lib/python3.6/dist-packages (from jinja2->datarobot-drum) (1.1.1)\n",
      "Collecting ruamel.yaml.clib>=0.1.2; platform_python_implementation == \"CPython\" and python_version < \"3.9\"\n",
      "\u001b[?25l  Downloading https://files.pythonhosted.org/packages/88/ff/ec25dc01ef04232a9e68ff18492e37dfa01f1f58172e702ad4f38536d41b/ruamel.yaml.clib-0.2.2-cp36-cp36m-manylinux1_x86_64.whl (549kB)\n",
      "\u001b[K     |████████████████████████████████| 552kB 43.3MB/s \n",
      "\u001b[?25hRequirement already satisfied: zipp>=0.5 in /usr/local/lib/python3.6/dist-packages (from importlib-metadata<2,>=0.23; python_version == \"3.6\"->argcomplete==1.11.1->datarobot-drum) (3.4.0)\n",
      "Building wheels for collected packages: strictyaml, progress, argparse-formatter, memory-profiler, uwsgi\n",
      "  Building wheel for strictyaml (setup.py) ... \u001b[?25l\u001b[?25hdone\n",
      "  Created wheel for strictyaml: filename=strictyaml-1.0.6-cp36-none-any.whl size=25273 sha256=046b9bf311cd19405a1260beb9aa9c6cefde7c14380b0b5f97efb282b2fe6906\n",
      "  Stored in directory: /root/.cache/pip/wheels/b8/db/4d/deb821b0efddef300d0788a44daa2fd5cefd886789ab8e0027\n",
      "  Building wheel for progress (setup.py) ... \u001b[?25l\u001b[?25hdone\n",
      "  Created wheel for progress: filename=progress-1.5-cp36-none-any.whl size=8074 sha256=5628e24186f68b1cdb903c04c00c5d57c9acb5d803f011034c41122390b5a1fd\n",
      "  Stored in directory: /root/.cache/pip/wheels/6c/c8/80/32a294e3041f006c661838c05a411c7b7ffc60ff939d14e116\n",
      "  Building wheel for argparse-formatter (setup.py) ... \u001b[?25l\u001b[?25hdone\n",
      "  Created wheel for argparse-formatter: filename=argparse_formatter-1.2-cp36-none-any.whl size=5208 sha256=3ca321d07f6225ca6620c659e5951c56c82d47d6eec69da62da4e44fb61b25d9\n",
      "  Stored in directory: /root/.cache/pip/wheels/12/86/12/d6b1cd16365f1d058c696cf6718d7830720dc96035dc8cb2c9\n",
      "  Building wheel for memory-profiler (setup.py) ... \u001b[?25l\u001b[?25hdone\n",
      "  Created wheel for memory-profiler: filename=memory_profiler-0.58.0-cp36-none-any.whl size=30181 sha256=6eb6292d53d4357b08879b603437d779a9b358f6f527a1e134cb8c948dfd4c07\n",
      "  Stored in directory: /root/.cache/pip/wheels/02/e4/0b/aaab481fc5dd2a4ea59e78bc7231bb6aae7635ca7ee79f8ae5\n",
      "  Building wheel for uwsgi (setup.py) ... \u001b[?25l\u001b[?25hdone\n",
      "  Created wheel for uwsgi: filename=uWSGI-2.0.19.1-cp36-cp36m-linux_x86_64.whl size=597485 sha256=47cc741cd8b656cc8aa4a580fd6421564d709245648baef71cd50c00c673024f\n",
      "  Stored in directory: /root/.cache/pip/wheels/62/71/3d/24020be7a7ea936a375cf6144285eb3b5a5ed79cc694f247c0\n",
      "Successfully built strictyaml progress argparse-formatter memory-profiler uwsgi\n",
      "\u001b[31mERROR: datascience 0.10.6 has requirement folium==0.2.1, but you'll have folium 0.8.3 which is incompatible.\u001b[0m\n",
      "Installing collected packages: ruamel.yaml.clib, ruamel.yaml, strictyaml, progress, uwsgi, flask-cors, py4j, mlpiper, texttable, requests-toolbelt, trafaret, attrs, datarobot, argparse-formatter, importlib-metadata, argcomplete, websocket-client, docker, memory-profiler, datarobot-drum\n",
      "  Found existing installation: attrs 20.2.0\n",
      "    Uninstalling attrs-20.2.0:\n",
      "      Successfully uninstalled attrs-20.2.0\n",
      "  Found existing installation: importlib-metadata 2.0.0\n",
      "    Uninstalling importlib-metadata-2.0.0:\n",
      "      Successfully uninstalled importlib-metadata-2.0.0\n",
      "Successfully installed argcomplete-1.11.1 argparse-formatter-1.2 attrs-19.3.0 datarobot-2.21.3 datarobot-drum-1.4.2 docker-4.3.1 flask-cors-3.0.9 importlib-metadata-1.7.0 memory-profiler-0.58.0 mlpiper-2.4.1 progress-1.5 py4j-0.10.9.1 requests-toolbelt-0.9.1 ruamel.yaml-0.16.12 ruamel.yaml.clib-0.2.2 strictyaml-1.0.6 texttable-1.6.3 trafaret-1.2.0 uwsgi-2.0.19.1 websocket-client-0.57.0\n"
     ]
    }
   ],
   "source": [
    "!pip install datarobot-drum"
   ]
  },
  {
   "cell_type": "code",
   "execution_count": 4,
   "metadata": {
    "id": "bJ73nohOpPrj"
   },
   "outputs": [],
   "source": [
    "start_server = ['drum',\n",
    " 'server',\n",
    " '--code-dir',\n",
    " '/content/mlops-examples/custom_inference/python/insurance_pricing',\n",
    " '--target-type',\n",
    " 'unstructured',\n",
    " '--address',\n",
    " 'localhost:6789',\n",
    " '--verbose']"
   ]
  },
  {
   "cell_type": "code",
   "execution_count": 6,
   "metadata": {
    "id": "79gzPtE3oarC"
   },
   "outputs": [],
   "source": [
    "import io\n",
    "import requests\n",
    "import avro.io\n",
    "import avro\n",
    "from avro.datafile import DataFileReader\n",
    "import subprocess\n",
    "import pandas as pd"
   ]
  },
  {
   "cell_type": "code",
   "execution_count": null,
   "metadata": {
    "id": "MbkLOr8fpZrX"
   },
   "outputs": [],
   "source": [
    "server = subprocess.Popen(start_server, stdout=subprocess.PIPE)"
   ]
  },
  {
   "cell_type": "code",
   "execution_count": null,
   "metadata": {
    "colab": {
     "base_uri": "https://localhost:8080/"
    },
    "id": "7yUypNUsoarJ",
    "outputId": "c01dea8e-a553-4e23-fa03-5038b466e05a"
   },
   "outputs": [
    {
     "data": {
      "text/plain": [
       "b'{\"message\":\"OK\"}\\n'"
      ]
     },
     "execution_count": 10,
     "metadata": {
      "tags": []
     },
     "output_type": "execute_result"
    }
   ],
   "source": [
    "requests.request(\"GET\", \"http://localhost:6789/\").content"
   ]
  },
  {
   "cell_type": "code",
   "execution_count": null,
   "metadata": {
    "id": "NJJU6xGloarV",
    "scrolled": false
   },
   "outputs": [],
   "source": [
    "csv_in_bytes = open(\"/content/mlops-examples/custom_inference/python/insurance_pricing/data/loss_cost_short.csvrb\").read()"
   ]
  },
  {
   "cell_type": "code",
   "execution_count": null,
   "metadata": {
    "id": "6z-r5hBEoarY"
   },
   "outputs": [],
   "source": [
    "import requests\n",
    "\n",
    "url = \"http://localhost:6789/predictUnstructured/?ret_mode=binary\"\n",
    "\n",
    "payload = csv_in_bytes\n",
    "headers = {\n",
    "  'Content-Type': 'application/octet-stream'\n",
    "}\n",
    "\n",
    "response = requests.request(\"POST\", url, headers=headers, data = payload)\n",
    "\n",
    "return_bytes = response.content"
   ]
  },
  {
   "cell_type": "code",
   "execution_count": null,
   "metadata": {
    "colab": {
     "base_uri": "https://localhost:8080/"
    },
    "id": "9ml2ySInoara",
    "outputId": "20cf8998-7bd5-4411-f398-9d5af57357d8"
   },
   "outputs": [
    {
     "data": {
      "text/plain": [
       "SHAP_CustomerTenure                    -0.009229\n",
       "SHAP_DriverAge                         -0.067060\n",
       "SHAP_EngineCapacity                    -0.126928\n",
       "SHAP_NumberOfDrivers                   -0.210533\n",
       "SHAP_VehicleAge                        -0.002556\n",
       "SHAP_VehicleCostNew                    -0.007075\n",
       "SHAP_Zipcode_Aged_18_24                -0.021351\n",
       "SHAP_Zipcode_Aged_25_29                -0.006317\n",
       "SHAP_Zipcode_Aged_30_39                 0.009671\n",
       "SHAP_Zipcode_Aged_40_44                -0.003087\n",
       "SHAP_Zipcode_Aged_45_49                -0.286157\n",
       "SHAP_Zipcode_Aged_50_59                -0.050674\n",
       "SHAP_Zipcode_Aged_60                    0.100407\n",
       "SHAP_Zipcode_CommuteViaCar              0.497439\n",
       "SHAP_Zipcode_PersonsPerHousehold        0.001143\n",
       "SHAP_Zipcode_VehiclesPerHousehold       0.030764\n",
       "SHAP_Zipcode_annualMileage             -0.006449\n",
       "SHAP_DistributionChannel               -0.008335\n",
       "SHAP_VehicleModel                       0.068915\n",
       "SHAP_Zipcode                           -0.001565\n",
       "SHAP_VehicleMake                       -0.009019\n",
       "SHAP_ClientType                         0.000041\n",
       "SHAP_MaritalStatus                     -0.174615\n",
       "prediction                           2493.327881\n",
       "Name: 0, dtype: float64"
      ]
     },
     "execution_count": 17,
     "metadata": {
      "tags": []
     },
     "output_type": "execute_result"
    }
   ],
   "source": [
    "schema = avro.schema.parse(open(\"/content/mlops-examples/custom_inference/python/insurance_pricing/schema.avscrb\").read())\n",
    "bytes_reader = io.BytesIO(return_bytes)\n",
    "datum_reader = avro.io.DatumReader(schema)\n",
    "returned_data = DataFileReader(bytes_reader, avro.io.DatumReader())\n",
    "predictions = []  \n",
    "for pred in returned_data:\n",
    "    temp = pred[\"shap_values\"]\n",
    "    temp[\"prediction\"] = pred[\"prediction\"]\n",
    "    predictions.append(temp)\n",
    "pd.DataFrame(predictions).iloc[0]"
   ]
  }
 ],
 "metadata": {
  "colab": {
   "include_colab_link": true,
   "name": "Unstructured Model Predict - Return Shap Values and Predictions.ipynb",
   "provenance": []
  },
  "kernelspec": {
   "display_name": "Python 3",
   "language": "python",
   "name": "python3"
  },
  "language_info": {
   "codemirror_mode": {
    "name": "ipython",
    "version": 3
   },
   "file_extension": ".py",
   "mimetype": "text/x-python",
   "name": "python",
   "nbconvert_exporter": "python",
   "pygments_lexer": "ipython3",
   "version": "3.8.6"
  }
 },
 "nbformat": 4,
 "nbformat_minor": 1
}
