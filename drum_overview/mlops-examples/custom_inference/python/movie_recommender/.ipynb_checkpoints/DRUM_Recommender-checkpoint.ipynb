{
 "cells": [
  {
   "cell_type": "code",
   "execution_count": null,
   "metadata": {},
   "outputs": [],
   "source": []
  },
  {
   "cell_type": "code",
   "execution_count": 1,
   "metadata": {
    "tags": []
   },
   "outputs": [],
   "source": [
    "# !pip install -U --no-deps datarobot-drum\n",
    "# !pip install datarobot\n",
    "# !pip install PyYAML\n",
    "# !pip install strictyaml\n",
    "# !pip install memory_profiler\n",
    "# !pip install flask\n",
    "# !pip install -U --no-deps mlpiper\n",
    "# !pip install future\n",
    "# !pip install py4j\n",
    "# !pip install scipy\n",
    "# !pip install progress\n",
    "# !pip install texttable\n",
    "# !pip install docker\n",
    "# !pip install pyarrow\n",
    "# !pip install argcomplete\n",
    "# !pip install termcolor\n",
    "# !pip install tensorflow"
   ]
  },
  {
   "cell_type": "code",
   "execution_count": 2,
   "metadata": {},
   "outputs": [],
   "source": [
    "import pandas as pd\n",
    "import numpy as np\n",
    "from zipfile import ZipFile\n",
    "import tensorflow as tf\n",
    "from tensorflow import keras\n",
    "from tensorflow.keras import layers\n",
    "from pathlib import Path\n",
    "import io"
   ]
  },
  {
   "cell_type": "markdown",
   "metadata": {},
   "source": [
    "## DRUM"
   ]
  },
  {
   "cell_type": "code",
   "execution_count": 3,
   "metadata": {},
   "outputs": [],
   "source": [
    "# !pip uninstall Pillow\n",
    "# !pip install Pillow"
   ]
  },
  {
   "cell_type": "code",
   "execution_count": 4,
   "metadata": {},
   "outputs": [
    {
     "name": "stdout",
     "output_type": "stream",
     "text": [
      "usage: drum [-h] [--version]\n",
      "            {score,fit,perf-test,validation,server,new,push} ...\n",
      "\n",
      "Run user model\n",
      "\n",
      "positional arguments:\n",
      "  {score,fit,perf-test,validation,server,new,push}\n",
      "                        Commands\n",
      "    score               Run predictions in batch mode\n",
      "    fit                 Fit your model to your data\n",
      "    perf-test           Run performance tests\n",
      "    validation          Run validation checks against the model\n",
      "    server              serve the model via REST APIs\n",
      "    new                 Create new model/env template\n",
      "    push                Add your modeling code into DataRobot\n",
      "\n",
      "optional arguments:\n",
      "  -h, --help            show this help message and exit\n",
      "  --version             show program's version number and exit\n"
     ]
    }
   ],
   "source": [
    "!drum --help"
   ]
  },
  {
   "cell_type": "markdown",
   "metadata": {},
   "source": [
    "## Validate"
   ]
  },
  {
   "cell_type": "code",
   "execution_count": 5,
   "metadata": {},
   "outputs": [
    {
     "name": "stdout",
     "output_type": "stream",
     "text": [
      "2021-09-02 00:11:46,696 WARNING tensorflow:  SavedModel saved prior to TF 2.5 detected when loading Keras model. Please ensure that you are saving the model with model.save() or tf.keras.models.save_model(), *NOT* tf.saved_model.save(). To confirm, there should be a file named \"keras_metadata.pb\" in the SavedModel directory.\n",
      "2021-09-02 00:11:46.700280: I tensorflow/core/platform/cpu_feature_guard.cc:142] This TensorFlow binary is optimized with oneAPI Deep Neural Network Library (oneDNN) to use the following CPU instructions in performance-critical operations:  AVX2 FMA\n",
      "To enable them in other operations, rebuild TensorFlow with the appropriate compiler flags.\n",
      "2021-09-02 00:11:47.047958: I tensorflow/compiler/mlir/mlir_graph_optimization_pass.cc:185] None of the MLIR Optimization Passes are enabled (registered 2)\n",
      "2021-09-02 00:11:51,241 WARNING tensorflow:  SavedModel saved prior to TF 2.5 detected when loading Keras model. Please ensure that you are saving the model with model.save() or tf.keras.models.save_model(), *NOT* tf.saved_model.save(). To confirm, there should be a file named \"keras_metadata.pb\" in the SavedModel directory.\n",
      "2021-09-02 00:11:51.244880: I tensorflow/core/platform/cpu_feature_guard.cc:142] This TensorFlow binary is optimized with oneAPI Deep Neural Network Library (oneDNN) to use the following CPU instructions in performance-critical operations:  AVX2 FMA\n",
      "To enable them in other operations, rebuild TensorFlow with the appropriate compiler flags.\n",
      "2021-09-02 00:11:51.529816: I tensorflow/compiler/mlir/mlir_graph_optimization_pass.cc:185] None of the MLIR Optimization Passes are enabled (registered 2)\n",
      "2021-09-02 00:11:55,823 WARNING tensorflow:  SavedModel saved prior to TF 2.5 detected when loading Keras model. Please ensure that you are saving the model with model.save() or tf.keras.models.save_model(), *NOT* tf.saved_model.save(). To confirm, there should be a file named \"keras_metadata.pb\" in the SavedModel directory.\n",
      "2021-09-02 00:11:55.826994: I tensorflow/core/platform/cpu_feature_guard.cc:142] This TensorFlow binary is optimized with oneAPI Deep Neural Network Library (oneDNN) to use the following CPU instructions in performance-critical operations:  AVX2 FMA\n",
      "To enable them in other operations, rebuild TensorFlow with the appropriate compiler flags.\n",
      "2021-09-02 00:11:56.117894: I tensorflow/compiler/mlir/mlir_graph_optimization_pass.cc:185] None of the MLIR Optimization Passes are enabled (registered 2)\n",
      "\n",
      "\n",
      "Validation checks results\n",
      "      Test case          Status   Details\n",
      "=========================================\n",
      "Basic batch prediction   PASSED          \n",
      "Null value imputation    PASSED          \n"
     ]
    }
   ],
   "source": [
    "!drum validation --code-dir recommender_model \\\n",
    "--input recommender_model/predict.csv \\\n",
    "--target-type unstructured"
   ]
  },
  {
   "cell_type": "markdown",
   "metadata": {},
   "source": [
    "## Score"
   ]
  },
  {
   "cell_type": "code",
   "execution_count": 6,
   "metadata": {},
   "outputs": [
    {
     "name": "stdout",
     "output_type": "stream",
     "text": [
      "2021-09-02 00:12:09,376 WARNING tensorflow:  SavedModel saved prior to TF 2.5 detected when loading Keras model. Please ensure that you are saving the model with model.save() or tf.keras.models.save_model(), *NOT* tf.saved_model.save(). To confirm, there should be a file named \"keras_metadata.pb\" in the SavedModel directory.\n",
      "2021-09-02 00:12:09.380576: I tensorflow/core/platform/cpu_feature_guard.cc:142] This TensorFlow binary is optimized with oneAPI Deep Neural Network Library (oneDNN) to use the following CPU instructions in performance-critical operations:  AVX2 FMA\n",
      "To enable them in other operations, rebuild TensorFlow with the appropriate compiler flags.\n",
      "2021-09-02 00:12:09.666703: I tensorflow/compiler/mlir/mlir_graph_optimization_pass.cc:185] None of the MLIR Optimization Passes are enabled (registered 2)\n",
      "movieId,title,genres\n",
      "279,My Family (1995),Drama\n",
      "848,\"Spitfire Grill, The (1996)\",Drama\n",
      "943,\"Ghost and Mrs. Muir, The (1947)\",Drama|Fantasy|Romance\n",
      "1464,Lost Highway (1997),Crime|Drama|Fantasy|Film-Noir|Mystery|Romance\n",
      "1681,Mortal Kombat: Annihilation (1997),Action|Adventure|Fantasy\n",
      "2660,\"Thing from Another World, The (1951)\",Horror|Sci-Fi\n",
      "2661,It Came from Outer Space (1953),Sci-Fi\n",
      "6382,Together (Han ni Zai Yiki) (2002),Drama\n",
      "34271,Hustle & Flow (2005),Crime|Drama\n",
      "39414,Shopgirl (2005),Comedy|Drama|Romance\n",
      "\n"
     ]
    }
   ],
   "source": [
    "!drum score --code-dir recommender_model \\\n",
    "--input recommender_model/predict.csv \\\n",
    "--target-type unstructured"
   ]
  },
  {
   "cell_type": "code",
   "execution_count": null,
   "metadata": {},
   "outputs": [],
   "source": []
  }
 ],
 "metadata": {
  "kernelspec": {
   "display_name": "Python 3",
   "language": "python",
   "name": "python3"
  },
  "language_info": {
   "codemirror_mode": {
    "name": "ipython",
    "version": 3
   },
   "file_extension": ".py",
   "mimetype": "text/x-python",
   "name": "python",
   "nbconvert_exporter": "python",
   "pygments_lexer": "ipython3",
   "version": "3.7.0"
  }
 },
 "nbformat": 4,
 "nbformat_minor": 4
}
